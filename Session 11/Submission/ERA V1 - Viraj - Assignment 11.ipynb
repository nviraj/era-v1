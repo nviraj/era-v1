{
  "cells": [
    {
      "cell_type": "markdown",
      "metadata": {
        "id": "bw8mN4mWaJwt"
      },
      "source": [
        "# Assignment 11 - Viraj Noorithaya\n"
      ]
    },
    {
      "cell_type": "markdown",
      "metadata": {},
      "source": [
        "## Final Test Accuracy - X%\n"
      ]
    },
    {
      "cell_type": "markdown",
      "metadata": {
        "id": "i5EJaJ6PaJwu"
      },
      "source": [
        "## Script Parameters\n"
      ]
    },
    {
      "cell_type": "code",
      "execution_count": 3,
      "metadata": {
        "id": "cm_GkK-maJwv"
      },
      "outputs": [],
      "source": [
        "# Where are you running this? Can be either 'local' or 'colab'\n",
        "model_run_location = \"local\"\n",
        "\n",
        "# # Do you want to install the required packages?\n",
        "# install_required_packages = False\n",
        "install_required_packages = False if model_run_location == \"local\" else True\n",
        "\n",
        "# git repository url\n",
        "repo_name = \"era-v1\"\n",
        "git_repo_url = \"https://github.com/nviraj/era-v1.git\"\n",
        "\n",
        "# Is the model being developed or is it in production?\n",
        "# Can be development or production\n",
        "code_mode = \"development\"\n",
        "\n",
        "# WHich branch are you working on?\n",
        "branch_name = \"week-11\" if code_mode == \"development\" else \"main\"\n",
        "folder_name = \"Session 10/Submission\""
      ]
    },
    {
      "cell_type": "markdown",
      "metadata": {
        "id": "TEku13Z9uGHX"
      },
      "source": [
        "## Library Installation (Optional)\n"
      ]
    },
    {
      "cell_type": "code",
      "execution_count": 4,
      "metadata": {
        "colab": {
          "base_uri": "https://localhost:8080/"
        },
        "id": "ehhA4GGpaJww",
        "outputId": "d6f9aded-bf09-4f4c-bc88-43c2a5a8b55f"
      },
      "outputs": [],
      "source": [
        "# # Install any required libraries not present in your working environment\n",
        "\n",
        "if install_required_packages:\n",
        "    # # Needed locally and in colab\n",
        "    # !pip install torchsummary\n",
        "    # !conda install -c frgfm torchscan\n",
        "\n",
        "    import sys\n",
        "    # !{sys.executable} -m pip install torchsummary\n",
        "    !{sys.executable} -m pip install torch-lr-finder\n",
        "    !{sys.executable} -m pip install torchinfo\n",
        "    # https://github.com/jacobgil/pytorch-grad-cam\n",
        "    !{sys.executable} -m pip install grad-cam\n",
        "\n",
        "    # if model_run_location == 'colab':\n",
        "    #     !{sys.executable} -m pip install albumentations\n",
        "\n",
        "    # # Needed locally\n",
        "    # !conda install -c conda-forge tqdm\n",
        "    # !conda install -c anaconda ipywidgets\n",
        "\n",
        "    if model_run_location == 'local':\n",
        "        %conda install --yes --prefix {sys.prefix} -c conda-forge tqdm\n",
        "        %conda install --yes --prefix {sys.prefix} -c anaconda ipywidgets\n",
        "        %conda install --yes --prefix {sys.prefix} -c conda-forge imgaug\n",
        "        %conda install --yes --prefix {sys.prefix} -c conda-forge albumentations\n"
      ]
    },
    {
      "cell_type": "markdown",
      "metadata": {
        "id": "W4vt-IWCaJwx"
      },
      "source": [
        "## Code Procurement\n"
      ]
    },
    {
      "cell_type": "code",
      "execution_count": 6,
      "metadata": {
        "colab": {
          "base_uri": "https://localhost:8080/"
        },
        "id": "cJHG1vnqaJwx",
        "outputId": "5bd729de-1185-402b-af23-fe26bdf463d3"
      },
      "outputs": [
        {
          "name": "stdout",
          "output_type": "stream",
          "text": [
            "CWD: d:\\Root\\Personal\\WorkSpace\\era-v1\\Session 11\\Submission\n"
          ]
        }
      ],
      "source": [
        "import sys\n",
        "import os \n",
        "\n",
        "# Current working directory\n",
        "print(f\"CWD: {os.getcwd()}\")\n",
        "\n",
        "# Mount google drive if running on colab\n",
        "if model_run_location == 'colab':\n",
        "    # from google.colab import drive\n",
        "    # drive.mount('/content/drive')\n",
        "    # %cd /content/drive/MyDrive/WorkSpace/era-v1/Session 10/Submission\n",
        "\n",
        "    # Delete the folder if it exists\n",
        "    # Avoids fatal: destination path already exists and is not an empty directory.\n",
        "    # Get code from github\n",
        "    !rm -rf {repo_name} && git clone {git_repo_url}\n",
        "\n",
        "    # Switch to repo folder, Needed to switch branch\n",
        "    # Switch branch and change to the correct directory\n",
        "    !cd \"{repo_name}\" && git checkout {branch_name} && cd \"{folder_name}\"\n",
        "\n",
        "    # Make custom modules available\n",
        "    print(f\"Appending folder to path in order to detect modules: {folder_name}\")\n",
        "    sys.path.append(f\"era-v1/{folder_name}\")"
      ]
    },
    {
      "cell_type": "markdown",
      "metadata": {
        "id": "jiWmJROnaJwy"
      },
      "source": [
        "## Import Libraries\n"
      ]
    },
    {
      "cell_type": "code",
      "execution_count": 7,
      "metadata": {
        "colab": {
          "base_uri": "https://localhost:8080/"
        },
        "id": "6PlbomWY3RSq",
        "outputId": "bbf9d137-205f-45f7-d12a-19f5f9dafbcf"
      },
      "outputs": [
        {
          "name": "stderr",
          "output_type": "stream",
          "text": [
            "d:\\Apps\\Anaconda3\\envs\\era-v1\\Lib\\site-packages\\torch_lr_finder\\lr_finder.py:5: TqdmExperimentalWarning: Using `tqdm.autonotebook.tqdm` in notebook mode. Use `tqdm.tqdm` instead to force console mode (e.g. in jupyter console)\n",
            "  from tqdm.autonotebook import tqdm\n"
          ]
        }
      ],
      "source": [
        "# Import necessary modules (external libs)\n",
        "import matplotlib.pyplot as plt\n",
        "import torch\n",
        "import torch.nn.functional as F\n",
        "import torch.optim as optim\n",
        "from torch.optim.lr_scheduler import OneCycleLR\n"
      ]
    },
    {
      "cell_type": "code",
      "execution_count": 8,
      "metadata": {
        "id": "WGMvMPH-aJwz"
      },
      "outputs": [],
      "source": [
        "# Import user defined modules\n",
        "from modules.dataset import CIFAR_CLASSES\n",
        "from models.resnet import ResNet18 as Net\n",
        "from models.resnet import detailed_model_summary\n",
        "from modules.trainer import train_and_test_model, find_optimal_lr\n",
        "from modules.utils import get_device, save_model, pretty_print_metrics, get_num_workers\n",
        "from modules.visualize import (\n",
        "    plot_misclassified_images,\n",
        "    plot_sample_training_images,\n",
        "    plot_train_test_metrics,\n",
        ")"
      ]
    },
    {
      "cell_type": "markdown",
      "metadata": {
        "id": "U71ZcO2yuGHb"
      },
      "source": [
        "## Script Parameters\n"
      ]
    },
    {
      "cell_type": "code",
      "execution_count": 9,
      "metadata": {
        "id": "KxqJvgkiuGHc"
      },
      "outputs": [],
      "source": [
        "# Constants naming convention: All caps separated by underscore\n",
        "# https://realpython.com/python-constants/\n",
        "\n",
        "# Where do we store the data?\n",
        "data_path = \"../../data\"\n",
        "\n",
        "# Specify the number of epochs\n",
        "NUM_EPOCHS = 20\n",
        "\n",
        "# Set the batch size\n",
        "BATCH_SIZE = 512\n",
        "\n",
        "# What is the start LR and weight decay you'd prefer?\n",
        "PREFERRED_START_LR = 3e-2\n",
        "PREFERRED_WEIGHT_DECAY = 1e-4\n",
        "\n",
        "# Set seed value for reproducibility\n",
        "SEED = 2\n",
        "\n",
        "# Expected accuracy\n",
        "TARGET_ACCURACY = 85.0"
      ]
    },
    {
      "cell_type": "markdown",
      "metadata": {
        "id": "6hdO0QPWuGHd"
      },
      "source": [
        "## Get Device and Workers\n"
      ]
    },
    {
      "cell_type": "code",
      "execution_count": 10,
      "metadata": {
        "colab": {
          "base_uri": "https://localhost:8080/"
        },
        "id": "94BxVVBP3WwS",
        "outputId": "33786484-dedd-4e5d-dc22-2feaf0512341"
      },
      "outputs": [
        {
          "name": "stdout",
          "output_type": "stream",
          "text": [
            "Device created with cuda!\n"
          ]
        }
      ],
      "source": [
        "# Functionality to check cuda support and create device is now moved to utils.py\n",
        "device_support, device = get_device()\n",
        "\n",
        "# How many workers do you need?\n",
        "num_workers = get_num_workers(model_run_location)\n",
        "\n",
        "print(\n",
        "    f\"Run location: {model_run_location}, \\n\",\n",
        "    \"Device: {device_support}, \\n\",\n",
        "    \"Number of workers: {num_workers}, \\n\",\n",
        "    \"Batch size: {BATCH_SIZE} \\n\",\n",
        "    \"Seed: {SEED} \\n\",\n",
        "    \"Data path: {data_path}\",\n",
        ")"
      ]
    },
    {
      "cell_type": "markdown",
      "metadata": {
        "id": "AU810ednTZzd"
      },
      "source": [
        "### Reproducibility settings\n"
      ]
    },
    {
      "cell_type": "code",
      "execution_count": 11,
      "metadata": {
        "id": "zbyceIhNTZzd"
      },
      "outputs": [],
      "source": [
        "# For reproducibility\n",
        "# https://pytorch.org/docs/stable/notes/randomness.html\n",
        "# https://github.com/pytorch/pytorch/issues/7068\n",
        "import random\n",
        "import numpy as np\n",
        "\n",
        "torch.manual_seed(SEED)\n",
        "random.seed(SEED)\n",
        "np.random.seed(SEED)\n",
        "\n",
        "if device_support == \"cuda\":\n",
        "    torch.cuda.manual_seed(SEED)\n",
        "    torch.cuda.manual_seed_all(SEED)"
      ]
    },
    {
      "cell_type": "markdown",
      "metadata": {
        "id": "to2chNEdaJw4"
      },
      "source": [
        "## Dataloaders\n"
      ]
    },
    {
      "cell_type": "code",
      "execution_count": null,
      "metadata": {
        "colab": {
          "base_uri": "https://localhost:8080/"
        },
        "id": "d8lov1SaaJw4",
        "outputId": "1b96bacb-f63f-42fe-aee5-db060646e297"
      },
      "outputs": [],
      "source": [
        "# Get the train and test loader\n",
        "# Transformations for the train and test data is present in dataset.py\n",
        "train_loader, test_loader = get_cifar_dataloaders(\n",
        "    data_path=data_path, batch_size=BATCH_SIZE, num_workers=num_workers, seed=SEED\n",
        ")\n",
        "\n",
        "# Get class mapping for the dataset\n",
        "classes = CIFAR_CLASSES\n",
        "print(f\"Class Labels: {classes}\")"
      ]
    },
    {
      "cell_type": "markdown",
      "metadata": {
        "id": "3tcyJZ7xaJw4"
      },
      "source": [
        "## Sample Training Images\n"
      ]
    },
    {
      "cell_type": "code",
      "execution_count": null,
      "metadata": {
        "colab": {
          "base_uri": "https://localhost:8080/",
          "height": 983
        },
        "id": "Hx7QkLcw4Epc",
        "outputId": "52aadeb6-650c-4460-81c4-3abadd8cbe42"
      },
      "outputs": [],
      "source": [
        "# Get a batch of training data from train_loader\n",
        "batch_data, batch_label = next(iter(train_loader))\n",
        "\n",
        "# Plot 30 sample images from the training data along with their labels\n",
        "# plot_sample_training_images() imported from utils.py\n",
        "fig, axs = plot_sample_training_images(\n",
        "    batch_data, batch_label, class_label=classes, num_images=30\n",
        ")\n",
        "plt.show()"
      ]
    },
    {
      "cell_type": "markdown",
      "metadata": {
        "id": "dtKTHaq3aJw5"
      },
      "source": [
        "## Model Summary\n"
      ]
    },
    {
      "cell_type": "code",
      "execution_count": null,
      "metadata": {
        "colab": {
          "base_uri": "https://localhost:8080/"
        },
        "id": "_D2fZQC2aJw6",
        "outputId": "7620719a-e3ba-489c-8913-d29caa7d6aec"
      },
      "outputs": [],
      "source": [
        "# Model class is imported from model.py\n",
        "\n",
        "# Send the model to device\n",
        "model = Net().to(device)\n",
        "\n",
        "# enable printing shape\n",
        "model.print_shape = True\n",
        "\n",
        "# # Print the model summary by specifying the input size\n",
        "# summary(model, input_size=(3, 32, 32))\n",
        "detailed_model_summary(model, input_size=(3, 32, 32), device=device)\n",
        "\n",
        "# disable printing shape for cleaner test train output\n",
        "model.print_shape = False"
      ]
    },
    {
      "cell_type": "markdown",
      "metadata": {
        "id": "ZZC5UXwXaJw7"
      },
      "source": [
        "## Train and Test\n"
      ]
    },
    {
      "cell_type": "markdown",
      "metadata": {
        "id": "kuPeac4MuGHh"
      },
      "source": [
        "### Optimizer and Loss Function\n"
      ]
    },
    {
      "cell_type": "code",
      "execution_count": null,
      "metadata": {
        "id": "Owqiet9M4TV7"
      },
      "outputs": [],
      "source": [
        "# Create optimizer and scheduler\n",
        "# Use ADAM\n",
        "# https://pytorch.org/docs/stable/generated/torch.optim.Adam.html\n",
        "optimizer = optim.Adam(\n",
        "    model.parameters(), lr=PREFERRED_START_LR, weight_decay=PREFERRED_WEIGHT_DECAY\n",
        ")\n",
        "\n",
        "# Define criteria function\n",
        "# https://pytorch.org/docs/stable/generated/torch.nn.CrossEntropyLoss.html\n",
        "criterion = torch.nn.CrossEntropyLoss()"
      ]
    },
    {
      "cell_type": "markdown",
      "metadata": {
        "id": "NAUZpitAuGHh"
      },
      "source": [
        "### Find Learning Rate\n"
      ]
    },
    {
      "cell_type": "code",
      "execution_count": null,
      "metadata": {
        "colab": {
          "base_uri": "https://localhost:8080/",
          "height": 557,
          "referenced_widgets": [
            "2f04e81bb04f4b65914ebfcf93896616",
            "7677c491f2f84a95990402bc8eab97a1",
            "5b6b519123ee40c5a69a6f78c4a6bba6",
            "3e3a9a0dd2de42febf44df7dace60cac",
            "58cb09c4a52c407c9273239a0623f227",
            "97756e6b623d403284501aa04088f9ca",
            "75d6429c617a4e7c9ca90f33afdcfcf6",
            "d2441166e75745bfbb580d52c3bc3b01",
            "b4d897dfabc54c3ab2544e45c1735cbf",
            "95d33c4cbd78467cbd0dc99c6a2440f4",
            "6368cc6303a241da94da5da2e990a66d"
          ]
        },
        "id": "37nW5EIEuGHh",
        "outputId": "5163ec0c-3e7d-43c1-f1f0-053522d22159"
      },
      "outputs": [],
      "source": [
        "# Find optimal LR to start with\n",
        "suggested_lr = find_optimal_lr(model, optimizer, criterion, train_loader, start_lr = PREFERRED_START_LR)"
      ]
    },
    {
      "cell_type": "markdown",
      "metadata": {
        "id": "pUMgrmnYuGHh"
      },
      "source": [
        "### Scheduler\n"
      ]
    },
    {
      "cell_type": "code",
      "execution_count": null,
      "metadata": {
        "colab": {
          "base_uri": "https://localhost:8080/"
        },
        "id": "uyP_d0sxuGHh",
        "outputId": "b234650b-f804-4688-ed2c-3db6b4f2223e"
      },
      "outputs": [],
      "source": [
        "# suggested_lr = 0.2\n",
        "print(f\"Suggested Max LR: {suggested_lr}\")\n",
        "\n",
        "# Learning rate scheduler based on OneCycleLR\n",
        "# https://pytorch.org/docs/stable/generated/torch.optim.lr_scheduler.OneCycleLR.html\n",
        "scheduler = OneCycleLR(\n",
        "    optimizer,\n",
        "    max_lr=suggested_lr,\n",
        "    steps_per_epoch=len(train_loader),\n",
        "    epochs=NUM_EPOCHS,\n",
        "    pct_start=5 / NUM_EPOCHS,\n",
        "    div_factor=5,\n",
        "    three_phase=False,\n",
        "    anneal_strategy=\"linear\",\n",
        "    final_div_factor=20,\n",
        "    verbose=False,\n",
        ")"
      ]
    },
    {
      "cell_type": "markdown",
      "metadata": {
        "id": "ZymIecrUuGHi"
      },
      "source": [
        "### Train and test model\n"
      ]
    },
    {
      "cell_type": "code",
      "execution_count": null,
      "metadata": {
        "colab": {
          "base_uri": "https://localhost:8080/"
        },
        "id": "AgiHs--euGHi",
        "outputId": "13182d52-1214-426f-9fbb-c6a0af6c4559"
      },
      "outputs": [],
      "source": [
        "# Create a dictionary of lists for misclassified images, generated predictions and ground truth\n",
        "misclassified_image_data = {\"images\": [], \"ground_truths\": [], \"predicted_vals\": []}\n",
        "\n",
        "# Run the model for NUM_EPOCHS\n",
        "results = train_and_test_model(\n",
        "    batch_size=BATCH_SIZE,\n",
        "    num_epochs=NUM_EPOCHS,\n",
        "    model=model,\n",
        "    device=device,\n",
        "    train_loader=train_loader,\n",
        "    test_loader=test_loader,\n",
        "    optimizer=optimizer,\n",
        "    criterion=criterion,\n",
        "    scheduler=scheduler,\n",
        "    misclassified_image_data=misclassified_image_data,\n",
        ")"
      ]
    },
    {
      "cell_type": "code",
      "execution_count": null,
      "metadata": {
        "colab": {
          "base_uri": "https://localhost:8080/"
        },
        "id": "ojgiBmmcaeO1",
        "outputId": "b729845a-d91b-4aff-ef45-b1de1f535f42"
      },
      "outputs": [],
      "source": [
        "# Pretty print train and test accuracy and loss values for each epoch\n",
        "pretty_print_metrics(num_epochs=NUM_EPOCHS, results=results)"
      ]
    },
    {
      "cell_type": "markdown",
      "metadata": {
        "id": "8epmHZIPaJw7"
      },
      "source": [
        "## Metrics\n"
      ]
    },
    {
      "cell_type": "code",
      "execution_count": null,
      "metadata": {
        "colab": {
          "base_uri": "https://localhost:8080/",
          "height": 735
        },
        "id": "Wu0l7dli4eC9",
        "outputId": "d9638306-25b2-4da0-bf2c-bc4643b2e6be"
      },
      "outputs": [],
      "source": [
        "# Print expected accuracy for easier reference\n",
        "print(f\"Expected accuracy: {TARGET_ACCURACY}%\")\n",
        "\n",
        "# Plot the accuracy and loss graphs using data and plot_train_test_metrics() from model.py\n",
        "print(\"Plotting accuracy and loss graphs.\")\n",
        "fig, axs = plot_train_test_metrics(results)\n",
        "plt.show()\n",
        "# plt.savefig(\"Loss and Accuracy Metrics.png\")"
      ]
    },
    {
      "cell_type": "markdown",
      "metadata": {
        "id": "xvSpV2XLjEhb"
      },
      "source": [
        "## Save model\n"
      ]
    },
    {
      "cell_type": "code",
      "execution_count": null,
      "metadata": {
        "colab": {
          "base_uri": "https://localhost:8080/"
        },
        "id": "fSoN5DVhjEhb",
        "outputId": "230b299c-949d-4517-f3bd-8600eebd8ed5"
      },
      "outputs": [],
      "source": [
        "# Save model\n",
        "print(\"Saving the model as the training is complete!\")\n",
        "save_model(\n",
        "    epoch=NUM_EPOCHS,\n",
        "    model=model,\n",
        "    optimizer=optimizer,\n",
        "    scheduler=scheduler,\n",
        "    batch_size=BATCH_SIZE,\n",
        "    criterion=criterion,\n",
        "    file_name=\"model_last_epoch.pth\",\n",
        ")"
      ]
    },
    {
      "cell_type": "markdown",
      "metadata": {
        "id": "PFUaX9XkTpcI"
      },
      "source": [
        "## Show Misclassified images\n"
      ]
    },
    {
      "cell_type": "code",
      "execution_count": null,
      "metadata": {
        "colab": {
          "base_uri": "https://localhost:8080/",
          "height": 383
        },
        "id": "X5131GVbTpcJ",
        "outputId": "e55310f8-b714-417c-8f86-cf6b00a1506a"
      },
      "outputs": [],
      "source": [
        "# Plot misclassified images\n",
        "fig, axs = plot_misclassified_images(\n",
        "    data=misclassified_image_data, class_label=classes, num_images=10\n",
        ")\n",
        "plt.show()\n",
        "# plt.savefig(\"Misclassified Images.png\")"
      ]
    },
    {
      "cell_type": "markdown",
      "metadata": {},
      "source": [
        "## GradCAM (Misclassified)"
      ]
    },
    {
      "cell_type": "code",
      "execution_count": null,
      "metadata": {},
      "outputs": [],
      "source": [
        "# Plot misclassified images\n",
        "fig, axs = plot_gradcam(\n",
        "    model=model, data=misclassified_image_data, class_label=classes, target_layers=[model.layer3[-1]], device=device_support, num_images=10\n",
        ")\n",
        "plt.show()\n",
        "# plt.savefig(\"GradCAM Images.png\")"
      ]
    }
  ],
  "metadata": {
    "accelerator": "GPU",
    "colab": {
      "include_colab_link": true,
      "provenance": []
    },
    "kernelspec": {
      "display_name": "Python 3",
      "name": "python3"
    },
    "language_info": {
      "codemirror_mode": {
        "name": "ipython",
        "version": 3
      },
      "file_extension": ".py",
      "mimetype": "text/x-python",
      "name": "python",
      "nbconvert_exporter": "python",
      "pygments_lexer": "ipython3",
      "version": "3.11.4"
    },
    "widgets": {
      "application/vnd.jupyter.widget-state+json": {
        "2f04e81bb04f4b65914ebfcf93896616": {
          "model_module": "@jupyter-widgets/controls",
          "model_module_version": "1.5.0",
          "model_name": "HBoxModel",
          "state": {
            "_dom_classes": [],
            "_model_module": "@jupyter-widgets/controls",
            "_model_module_version": "1.5.0",
            "_model_name": "HBoxModel",
            "_view_count": null,
            "_view_module": "@jupyter-widgets/controls",
            "_view_module_version": "1.5.0",
            "_view_name": "HBoxView",
            "box_style": "",
            "children": [
              "IPY_MODEL_7677c491f2f84a95990402bc8eab97a1",
              "IPY_MODEL_5b6b519123ee40c5a69a6f78c4a6bba6",
              "IPY_MODEL_3e3a9a0dd2de42febf44df7dace60cac"
            ],
            "layout": "IPY_MODEL_58cb09c4a52c407c9273239a0623f227"
          }
        },
        "3e3a9a0dd2de42febf44df7dace60cac": {
          "model_module": "@jupyter-widgets/controls",
          "model_module_version": "1.5.0",
          "model_name": "HTMLModel",
          "state": {
            "_dom_classes": [],
            "_model_module": "@jupyter-widgets/controls",
            "_model_module_version": "1.5.0",
            "_model_name": "HTMLModel",
            "_view_count": null,
            "_view_module": "@jupyter-widgets/controls",
            "_view_module_version": "1.5.0",
            "_view_name": "HTMLView",
            "description": "",
            "description_tooltip": null,
            "layout": "IPY_MODEL_95d33c4cbd78467cbd0dc99c6a2440f4",
            "placeholder": "​",
            "style": "IPY_MODEL_6368cc6303a241da94da5da2e990a66d",
            "value": " 151/200 [00:32&lt;00:09,  5.39it/s]"
          }
        },
        "58cb09c4a52c407c9273239a0623f227": {
          "model_module": "@jupyter-widgets/base",
          "model_module_version": "1.2.0",
          "model_name": "LayoutModel",
          "state": {
            "_model_module": "@jupyter-widgets/base",
            "_model_module_version": "1.2.0",
            "_model_name": "LayoutModel",
            "_view_count": null,
            "_view_module": "@jupyter-widgets/base",
            "_view_module_version": "1.2.0",
            "_view_name": "LayoutView",
            "align_content": null,
            "align_items": null,
            "align_self": null,
            "border": null,
            "bottom": null,
            "display": null,
            "flex": null,
            "flex_flow": null,
            "grid_area": null,
            "grid_auto_columns": null,
            "grid_auto_flow": null,
            "grid_auto_rows": null,
            "grid_column": null,
            "grid_gap": null,
            "grid_row": null,
            "grid_template_areas": null,
            "grid_template_columns": null,
            "grid_template_rows": null,
            "height": null,
            "justify_content": null,
            "justify_items": null,
            "left": null,
            "margin": null,
            "max_height": null,
            "max_width": null,
            "min_height": null,
            "min_width": null,
            "object_fit": null,
            "object_position": null,
            "order": null,
            "overflow": null,
            "overflow_x": null,
            "overflow_y": null,
            "padding": null,
            "right": null,
            "top": null,
            "visibility": null,
            "width": null
          }
        },
        "5b6b519123ee40c5a69a6f78c4a6bba6": {
          "model_module": "@jupyter-widgets/controls",
          "model_module_version": "1.5.0",
          "model_name": "FloatProgressModel",
          "state": {
            "_dom_classes": [],
            "_model_module": "@jupyter-widgets/controls",
            "_model_module_version": "1.5.0",
            "_model_name": "FloatProgressModel",
            "_view_count": null,
            "_view_module": "@jupyter-widgets/controls",
            "_view_module_version": "1.5.0",
            "_view_name": "ProgressView",
            "bar_style": "danger",
            "description": "",
            "description_tooltip": null,
            "layout": "IPY_MODEL_d2441166e75745bfbb580d52c3bc3b01",
            "max": 200,
            "min": 0,
            "orientation": "horizontal",
            "style": "IPY_MODEL_b4d897dfabc54c3ab2544e45c1735cbf",
            "value": 151
          }
        },
        "6368cc6303a241da94da5da2e990a66d": {
          "model_module": "@jupyter-widgets/controls",
          "model_module_version": "1.5.0",
          "model_name": "DescriptionStyleModel",
          "state": {
            "_model_module": "@jupyter-widgets/controls",
            "_model_module_version": "1.5.0",
            "_model_name": "DescriptionStyleModel",
            "_view_count": null,
            "_view_module": "@jupyter-widgets/base",
            "_view_module_version": "1.2.0",
            "_view_name": "StyleView",
            "description_width": ""
          }
        },
        "75d6429c617a4e7c9ca90f33afdcfcf6": {
          "model_module": "@jupyter-widgets/controls",
          "model_module_version": "1.5.0",
          "model_name": "DescriptionStyleModel",
          "state": {
            "_model_module": "@jupyter-widgets/controls",
            "_model_module_version": "1.5.0",
            "_model_name": "DescriptionStyleModel",
            "_view_count": null,
            "_view_module": "@jupyter-widgets/base",
            "_view_module_version": "1.2.0",
            "_view_name": "StyleView",
            "description_width": ""
          }
        },
        "7677c491f2f84a95990402bc8eab97a1": {
          "model_module": "@jupyter-widgets/controls",
          "model_module_version": "1.5.0",
          "model_name": "HTMLModel",
          "state": {
            "_dom_classes": [],
            "_model_module": "@jupyter-widgets/controls",
            "_model_module_version": "1.5.0",
            "_model_name": "HTMLModel",
            "_view_count": null,
            "_view_module": "@jupyter-widgets/controls",
            "_view_module_version": "1.5.0",
            "_view_name": "HTMLView",
            "description": "",
            "description_tooltip": null,
            "layout": "IPY_MODEL_97756e6b623d403284501aa04088f9ca",
            "placeholder": "​",
            "style": "IPY_MODEL_75d6429c617a4e7c9ca90f33afdcfcf6",
            "value": " 76%"
          }
        },
        "95d33c4cbd78467cbd0dc99c6a2440f4": {
          "model_module": "@jupyter-widgets/base",
          "model_module_version": "1.2.0",
          "model_name": "LayoutModel",
          "state": {
            "_model_module": "@jupyter-widgets/base",
            "_model_module_version": "1.2.0",
            "_model_name": "LayoutModel",
            "_view_count": null,
            "_view_module": "@jupyter-widgets/base",
            "_view_module_version": "1.2.0",
            "_view_name": "LayoutView",
            "align_content": null,
            "align_items": null,
            "align_self": null,
            "border": null,
            "bottom": null,
            "display": null,
            "flex": null,
            "flex_flow": null,
            "grid_area": null,
            "grid_auto_columns": null,
            "grid_auto_flow": null,
            "grid_auto_rows": null,
            "grid_column": null,
            "grid_gap": null,
            "grid_row": null,
            "grid_template_areas": null,
            "grid_template_columns": null,
            "grid_template_rows": null,
            "height": null,
            "justify_content": null,
            "justify_items": null,
            "left": null,
            "margin": null,
            "max_height": null,
            "max_width": null,
            "min_height": null,
            "min_width": null,
            "object_fit": null,
            "object_position": null,
            "order": null,
            "overflow": null,
            "overflow_x": null,
            "overflow_y": null,
            "padding": null,
            "right": null,
            "top": null,
            "visibility": null,
            "width": null
          }
        },
        "97756e6b623d403284501aa04088f9ca": {
          "model_module": "@jupyter-widgets/base",
          "model_module_version": "1.2.0",
          "model_name": "LayoutModel",
          "state": {
            "_model_module": "@jupyter-widgets/base",
            "_model_module_version": "1.2.0",
            "_model_name": "LayoutModel",
            "_view_count": null,
            "_view_module": "@jupyter-widgets/base",
            "_view_module_version": "1.2.0",
            "_view_name": "LayoutView",
            "align_content": null,
            "align_items": null,
            "align_self": null,
            "border": null,
            "bottom": null,
            "display": null,
            "flex": null,
            "flex_flow": null,
            "grid_area": null,
            "grid_auto_columns": null,
            "grid_auto_flow": null,
            "grid_auto_rows": null,
            "grid_column": null,
            "grid_gap": null,
            "grid_row": null,
            "grid_template_areas": null,
            "grid_template_columns": null,
            "grid_template_rows": null,
            "height": null,
            "justify_content": null,
            "justify_items": null,
            "left": null,
            "margin": null,
            "max_height": null,
            "max_width": null,
            "min_height": null,
            "min_width": null,
            "object_fit": null,
            "object_position": null,
            "order": null,
            "overflow": null,
            "overflow_x": null,
            "overflow_y": null,
            "padding": null,
            "right": null,
            "top": null,
            "visibility": null,
            "width": null
          }
        },
        "b4d897dfabc54c3ab2544e45c1735cbf": {
          "model_module": "@jupyter-widgets/controls",
          "model_module_version": "1.5.0",
          "model_name": "ProgressStyleModel",
          "state": {
            "_model_module": "@jupyter-widgets/controls",
            "_model_module_version": "1.5.0",
            "_model_name": "ProgressStyleModel",
            "_view_count": null,
            "_view_module": "@jupyter-widgets/base",
            "_view_module_version": "1.2.0",
            "_view_name": "StyleView",
            "bar_color": null,
            "description_width": ""
          }
        },
        "d2441166e75745bfbb580d52c3bc3b01": {
          "model_module": "@jupyter-widgets/base",
          "model_module_version": "1.2.0",
          "model_name": "LayoutModel",
          "state": {
            "_model_module": "@jupyter-widgets/base",
            "_model_module_version": "1.2.0",
            "_model_name": "LayoutModel",
            "_view_count": null,
            "_view_module": "@jupyter-widgets/base",
            "_view_module_version": "1.2.0",
            "_view_name": "LayoutView",
            "align_content": null,
            "align_items": null,
            "align_self": null,
            "border": null,
            "bottom": null,
            "display": null,
            "flex": null,
            "flex_flow": null,
            "grid_area": null,
            "grid_auto_columns": null,
            "grid_auto_flow": null,
            "grid_auto_rows": null,
            "grid_column": null,
            "grid_gap": null,
            "grid_row": null,
            "grid_template_areas": null,
            "grid_template_columns": null,
            "grid_template_rows": null,
            "height": null,
            "justify_content": null,
            "justify_items": null,
            "left": null,
            "margin": null,
            "max_height": null,
            "max_width": null,
            "min_height": null,
            "min_width": null,
            "object_fit": null,
            "object_position": null,
            "order": null,
            "overflow": null,
            "overflow_x": null,
            "overflow_y": null,
            "padding": null,
            "right": null,
            "top": null,
            "visibility": null,
            "width": null
          }
        }
      }
    }
  },
  "nbformat": 4,
  "nbformat_minor": 0
}
