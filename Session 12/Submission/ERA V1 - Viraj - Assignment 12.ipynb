{
  "cells": [
    {
      "cell_type": "markdown",
      "metadata": {
        "id": "bw8mN4mWaJwt"
      },
      "source": [
        "# Assignment 12 - Viraj Noorithaya\n"
      ]
    },
    {
      "cell_type": "markdown",
      "metadata": {
        "id": "i5EJaJ6PaJwu"
      },
      "source": [
        "## Script Parameters\n"
      ]
    },
    {
      "cell_type": "code",
      "execution_count": null,
      "metadata": {
        "id": "cm_GkK-maJwv"
      },
      "outputs": [],
      "source": [
        "# Alert: Change these when running in production\n",
        "# Where are you running this? Can be either 'local' or 'colab'\n",
        "model_run_location = \"colab\" if \"google.colab\" in str(get_ipython()) else \"local\"\n",
        "\n",
        "# # Do you want to install the required packages?\n",
        "# install_required_packages = False\n",
        "install_required_packages = False if model_run_location == \"local\" else True\n",
        "\n",
        "# git repository url\n",
        "repo_name = \"era-v1\"\n",
        "git_repo_url = \"https://github.com/nviraj/era-v1.git\"\n",
        "\n",
        "# Is the model being developed or is it in production?\n",
        "# Can be development or production\n",
        "code_mode = \"development\"\n",
        "\n",
        "# WHich branch are you working on?\n",
        "branch_name = \"week-12\" if code_mode == \"development\" else \"main\"\n",
        "folder_name = \"Session 12/Submission\""
      ]
    },
    {
      "cell_type": "markdown",
      "metadata": {},
      "source": [
        "## Code Procurement\n"
      ]
    },
    {
      "cell_type": "code",
      "execution_count": null,
      "metadata": {},
      "outputs": [],
      "source": [
        "import sys\n",
        "import os\n",
        "\n",
        "# Current working directory\n",
        "print(f\"CWD: {os.getcwd()}\")\n",
        "\n",
        "# Mount google drive if running on colab\n",
        "if model_run_location == 'colab':\n",
        "    # from google.colab import drive\n",
        "    # drive.mount('/content/drive')\n",
        "    # %cd /content/drive/MyDrive/WorkSpace/era-v1/Session 10/Submission\n",
        "\n",
        "    # Delete the folder if it exists\n",
        "    # Avoids fatal: destination path already exists and is not an empty directory.\n",
        "    # Get code from github\n",
        "    !rm -rf {repo_name} && git clone {git_repo_url}\n",
        "\n",
        "    # Switch to repo folder, Needed to switch branch\n",
        "    # Switch branch and change to the correct directory\n",
        "    !cd \"{repo_name}\" && git checkout {branch_name} && cd \"{folder_name}\"\n",
        "\n",
        "    # Make custom modules available\n",
        "    print(f\"Appending folder to path in order to detect modules: {folder_name}\")\n",
        "    sys.path.append(f\"era-v1/{folder_name}\")"
      ]
    },
    {
      "cell_type": "markdown",
      "metadata": {
        "id": "TEku13Z9uGHX"
      },
      "source": [
        "## Library Installation (Optional)\n"
      ]
    },
    {
      "cell_type": "code",
      "execution_count": null,
      "metadata": {
        "colab": {
          "base_uri": "https://localhost:8080/"
        },
        "id": "ehhA4GGpaJww",
        "outputId": "94308e41-dee2-4ddb-f5e4-68404f5e7620"
      },
      "outputs": [],
      "source": [
        "# # Install any required libraries not present in your working environment\n",
        "\n",
        "if install_required_packages:\n",
        "    # # Needed locally and in colab\n",
        "    # !pip install torchsummary\n",
        "    # !conda install -c frgfm torchscan\n",
        "\n",
        "    # Run this cell if you are using colab or local machine\n",
        "    import sys\n",
        "    # https://lightning.ai/docs/pytorch/stable/\n",
        "    !{sys.executable} -m pip install -q lightning\n",
        "    # https://github.com/davidtvs/pytorch-lr-finder\n",
        "    !{sys.executable} -m pip install -q torch-lr-finder\n",
        "    # https://github.com/tyleryep/torchinfo\n",
        "    !{sys.executable} -m pip install -q torchinfo\n",
        "    # https://github.com/jacobgil/pytorch-grad-cam\n",
        "    !{sys.executable} -m pip install -q grad-cam\n",
        "    # https://www.gradio.app/\n",
        "    !{sys.executable} -m pip install -q gradio\n",
        "    # https://github.com/tensorflow/tensorboard\n",
        "    !{sys.executable} -m pip install -q tensorboard\n",
        "\n",
        "\n",
        "    # Needed in local machine only\n",
        "    if model_run_location == 'local':\n",
        "        %conda install --yes --prefix {sys.prefix} -c conda-forge tqdm\n",
        "        %conda install --yes --prefix {sys.prefix} -c anaconda ipywidgets\n",
        "        %conda install --yes --prefix {sys.prefix} -c conda-forge imgaug\n",
        "        %conda install --yes --prefix {sys.prefix} -c conda-forge albumentations  \n",
        "        %conda install --yes --prefix {sys.prefix} -c conda-forge tensorboard       \n"
      ]
    },
    {
      "cell_type": "markdown",
      "metadata": {
        "id": "jiWmJROnaJwy"
      },
      "source": [
        "## Import Libraries\n"
      ]
    },
    {
      "cell_type": "code",
      "execution_count": null,
      "metadata": {
        "id": "6PlbomWY3RSq"
      },
      "outputs": [],
      "source": [
        "# Import necessary modules (external libs)\n",
        "import matplotlib.pyplot as plt\n",
        "import torch\n",
        "import torch.nn.functional as F\n",
        "from torch.optim.lr_scheduler import OneCycleLR\n",
        "from pytorch_lightning import LightningModule, Trainer\n",
        "from torchmetrics import Accuracy\n",
        "from lightning_fabric.utilities.seed import seed_everything\n",
        "from pytorch_lightning.loggers import TensorBoardLogger, CSVLogger\n",
        "import tensorboard"
      ]
    },
    {
      "cell_type": "code",
      "execution_count": null,
      "metadata": {
        "colab": {
          "base_uri": "https://localhost:8080/"
        },
        "id": "WGMvMPH-aJwz",
        "outputId": "0d7b2914-81d0-4156-adb0-330b35dcc25d"
      },
      "outputs": [],
      "source": [
        "if code_mode == \"development\":\n",
        "    %load_ext autoreload\n",
        "    %autoreload 2\n",
        "\n",
        "# Import user defined modules\n",
        "import modules.config as config\n",
        "from models.custom_resnet import CustomResNet as Net\n",
        "from models.custom_resnet import detailed_model_summary\n",
        "from modules.dataset import CIFAR_CLASSES\n",
        "from modules.lightning_dataset import CIFARDataModule\n",
        "from modules.trainer import train_and_test_model\n",
        "from modules.utils import get_num_workers, save_model\n",
        "from modules.visualize import (\n",
        "    plot_gradcam_images,\n",
        "    plot_misclassified_images,\n",
        "    plot_sample_training_images,\n",
        "    plot_train_test_metrics,\n",
        ")"
      ]
    },
    {
      "cell_type": "markdown",
      "metadata": {
        "id": "U71ZcO2yuGHb"
      },
      "source": [
        "## Script Parameters\n"
      ]
    },
    {
      "cell_type": "code",
      "execution_count": null,
      "metadata": {
        "id": "KxqJvgkiuGHc"
      },
      "outputs": [],
      "source": [
        "# Alert: Change these when running in production in modules.config.py:\n",
        "\n",
        "# Constants naming convention: All caps separated by underscore\n",
        "# https://realpython.com/python-constants/\n",
        "\n",
        "# Where do we store the data, checkpoint and logging paths?\n",
        "data_path = config.DATA_PATH\n",
        "checkpoint_path = config.CHECKPOINT_PATH\n",
        "logging_path = config.LOGGING_PATH\n",
        "\n",
        "# Specify the number of epochs\n",
        "num_epochs = config.NUM_EPOCHS\n",
        "\n",
        "# Set the batch size\n",
        "batch_size = config.BATCH_SIZE\n",
        "\n",
        "# Set seed value for reproducibility\n",
        "seed = config.SEED"
      ]
    },
    {
      "cell_type": "markdown",
      "metadata": {
        "id": "6hdO0QPWuGHd"
      },
      "source": [
        "## Workers and Options\n"
      ]
    },
    {
      "cell_type": "code",
      "execution_count": null,
      "metadata": {
        "colab": {
          "base_uri": "https://localhost:8080/"
        },
        "id": "94BxVVBP3WwS",
        "outputId": "a00ced06-4177-4b20-9e84-e9c03ed99e57"
      },
      "outputs": [],
      "source": [
        "# How many workers do you need?\n",
        "num_workers = get_num_workers(model_run_location)\n",
        "\n",
        "# https://pytorch.org/docs/stable/generated/torch.set_float32_matmul_precision.html#torch.set_float32_matmul_precision\n",
        "torch.set_float32_matmul_precision(\"medium\")\n",
        "\n",
        "print(\n",
        "    f\"Run location: {model_run_location}, \\n\",\n",
        "    f\"Number of workers: {num_workers}, \\n\",\n",
        "    f\"Batch size: {batch_size} \\n\",\n",
        "    f\"Seed: {seed} \\n\",\n",
        "    f\"Data path: {data_path} \\n\",\n",
        "    f\"Logging path: {logging_path} \\n\",\n",
        "    f\"Checkpoint path: {checkpoint_path}\",\n",
        ")"
      ]
    },
    {
      "cell_type": "markdown",
      "metadata": {
        "id": "AU810ednTZzd"
      },
      "source": [
        "### Reproducibility settings\n"
      ]
    },
    {
      "cell_type": "code",
      "execution_count": null,
      "metadata": {
        "id": "zbyceIhNTZzd"
      },
      "outputs": [],
      "source": [
        "# # For reproducibility\n",
        "# # https://pytorch.org/docs/stable/notes/randomness.html\n",
        "# # https://github.com/pytorch/pytorch/issues/7068\n",
        "# import random\n",
        "# import numpy as np\n",
        "\n",
        "# torch.manual_seed(seed)\n",
        "# random.seed(seed)\n",
        "# np.random.seed(seed)\n",
        "\n",
        "# if device_support == \"cuda\":\n",
        "#     torch.cuda.manual_seed(seed)\n",
        "#     torch.cuda.manual_seed_all(seed)\n",
        "\n",
        "seed_everything(seed)"
      ]
    },
    {
      "cell_type": "markdown",
      "metadata": {
        "id": "to2chNEdaJw4"
      },
      "source": [
        "## Dataloaders/ Datamodule\n"
      ]
    },
    {
      "cell_type": "code",
      "execution_count": null,
      "metadata": {
        "colab": {
          "base_uri": "https://localhost:8080/"
        },
        "id": "d8lov1SaaJw4",
        "outputId": "36717687-7e22-48db-da41-b98058345292"
      },
      "outputs": [],
      "source": [
        "# Get the data module\n",
        "cifar_data_module = CIFARDataModule(data_path=data_path, batch_size=batch_size, seed=seed, num_workers=num_workers)\n",
        "# cifar_data_module = CIFARDataModule(data_path=data_path, batch_size=batch_size, seed=seed, num_workers=0)\n",
        "cifar_data_module.prepare_data()\n",
        "cifar_data_module.setup()\n",
        "\n",
        "# Extract the train and test dataloaders\n",
        "# train_loader = cifar_data_module.training_dataset\n",
        "# val_loader = cifar_data_module.validation_dataset\n",
        "# test_loader = cifar_data_module.testing_dataset\n",
        "\n",
        "train_loader = cifar_data_module.train_dataloader()\n",
        "val_loader = cifar_data_module.val_dataloader()\n",
        "test_loader = cifar_data_module.test_dataloader()\n",
        "\n",
        "# Get class mapping for the dataset\n",
        "classes = CIFAR_CLASSES\n",
        "print(f\"Class Labels: {classes}\")"
      ]
    },
    {
      "cell_type": "markdown",
      "metadata": {
        "id": "3tcyJZ7xaJw4"
      },
      "source": [
        "## Sample Training Images\n"
      ]
    },
    {
      "cell_type": "code",
      "execution_count": null,
      "metadata": {
        "colab": {
          "base_uri": "https://localhost:8080/",
          "height": 983
        },
        "id": "Hx7QkLcw4Epc",
        "outputId": "8bc12e3e-408f-4a4c-c323-46e1e9bd840b"
      },
      "outputs": [],
      "source": [
        "# Get a batch of training data from train_loader\n",
        "batch_data, batch_label = next(iter(train_loader))\n",
        "\n",
        "# Plot 30 sample images from the training data along with their labels\n",
        "# plot_sample_training_images() imported from utils.py\n",
        "fig, axs = plot_sample_training_images(batch_data, batch_label, class_label=classes, num_images=30)\n",
        "plt.show()"
      ]
    },
    {
      "cell_type": "markdown",
      "metadata": {
        "id": "dtKTHaq3aJw5"
      },
      "source": [
        "## Model Summary\n"
      ]
    },
    {
      "cell_type": "code",
      "execution_count": null,
      "metadata": {
        "colab": {
          "base_uri": "https://localhost:8080/"
        },
        "id": "_D2fZQC2aJw6",
        "outputId": "ea9226e8-fba8-4b7a-e170-60ea6feea3d3"
      },
      "outputs": [],
      "source": [
        "# Define the model\n",
        "# No need to send the model to device as we are using the LightningModule\n",
        "model = Net()\n",
        "\n",
        "# enable printing shape\n",
        "model.print_shape = True\n",
        "\n",
        "# # Print the model summary by specifying the input size\n",
        "# summary(model, input_size=(3, 32, 32))\n",
        "detailed_model_summary(model, input_size=(3, 32, 32))\n",
        "\n",
        "# disable printing shape for cleaner test train output\n",
        "model.print_shape = False"
      ]
    },
    {
      "cell_type": "markdown",
      "metadata": {
        "id": "ZZC5UXwXaJw7"
      },
      "source": [
        "## Train and Test\n"
      ]
    },
    {
      "cell_type": "markdown",
      "metadata": {},
      "source": [
        "### Define Logger\n"
      ]
    },
    {
      "cell_type": "code",
      "execution_count": null,
      "metadata": {},
      "outputs": [],
      "source": [
        "# Define logger\n",
        "# https://lightning.ai/docs/pytorch/stable/extensions/generated/lightning.pytorch.loggers.TensorBoardLogger.html\n",
        "logger = TensorBoardLogger(save_dir=logging_path, name=\"lightning_logs\", log_graph=False)\n",
        "# logger = CSVLogger(save_dir=logging_path, name=\"lightning_logs\")"
      ]
    },
    {
      "cell_type": "markdown",
      "metadata": {
        "id": "ZymIecrUuGHi"
      },
      "source": [
        "### Train and test model\n"
      ]
    },
    {
      "cell_type": "code",
      "execution_count": null,
      "metadata": {
        "colab": {
          "base_uri": "https://localhost:8080/"
        },
        "id": "AgiHs--euGHi",
        "outputId": "2edfec7d-4998-40ad-dc91-70fa1af326ec"
      },
      "outputs": [],
      "source": [
        "# Create a dictionary of lists for misclassified images, generated predictions and ground truth\n",
        "misclassified_image_data = {\"images\": [], \"ground_truths\": [], \"predicted_vals\": []}\n",
        "\n",
        "# Run the model for num_epochs\n",
        "trainer, results, misclassified_image_data = train_and_test_model(\n",
        "    batch_size=batch_size,\n",
        "    num_epochs=num_epochs,\n",
        "    model=model,\n",
        "    datamodule=cifar_data_module,\n",
        "    logger=logger,\n",
        "    # Alert: Change this when running in production\n",
        "    debug=False,\n",
        ")"
      ]
    },
    {
      "cell_type": "markdown",
      "metadata": {
        "id": "8epmHZIPaJw7"
      },
      "source": [
        "## Metrics\n"
      ]
    },
    {
      "cell_type": "code",
      "execution_count": null,
      "metadata": {},
      "outputs": [],
      "source": [
        "# Using trainer and tensorboard logger, show the model metrics in tensorboard\n",
        "%load_ext tensorboard\n",
        "\n",
        "!tensorboard --logdir {logging_path}"
      ]
    },
    {
      "cell_type": "code",
      "execution_count": null,
      "metadata": {},
      "outputs": [],
      "source": [
        "# print(type(results))\n",
        "# print(results)\n",
        "# print(results.keys())\n",
        "# print(results[\"train_loss\"])"
      ]
    },
    {
      "cell_type": "code",
      "execution_count": null,
      "metadata": {
        "colab": {
          "base_uri": "https://localhost:8080/",
          "height": 735
        },
        "id": "Wu0l7dli4eC9",
        "outputId": "29d184f8-9d3d-4a64-84d8-928a546ef42a"
      },
      "outputs": [],
      "source": [
        "# Plot the accuracy and loss graphs using data and plot_train_test_metrics() from model.py\n",
        "print(\"Plotting accuracy and loss graphs.\")\n",
        "fig, axs = plot_train_test_metrics(results)\n",
        "plt.show()\n",
        "# plt.savefig(\"Loss and Accuracy Metrics.png\")"
      ]
    },
    {
      "cell_type": "markdown",
      "metadata": {
        "id": "PFUaX9XkTpcI"
      },
      "source": [
        "## Show Misclassified images\n"
      ]
    },
    {
      "cell_type": "code",
      "execution_count": null,
      "metadata": {},
      "outputs": [],
      "source": [
        "# print(type(misclassified_image_data))\n",
        "# print(len(misclassified_image_data))\n",
        "# print(misclassified_image_data.keys())\n",
        "# print(misclassified_image_data[\"ground_truths\"])"
      ]
    },
    {
      "cell_type": "code",
      "execution_count": null,
      "metadata": {
        "colab": {
          "base_uri": "https://localhost:8080/",
          "height": 383
        },
        "id": "X5131GVbTpcJ",
        "outputId": "7f46bafd-f412-42fa-c11d-004e5fe190d2"
      },
      "outputs": [],
      "source": [
        "# Plot misclassified images\n",
        "fig, axs = plot_misclassified_images(data=misclassified_image_data, class_label=classes, num_images=10)\n",
        "plt.show()\n",
        "# plt.savefig(\"Misclassified Images.png\")"
      ]
    },
    {
      "cell_type": "markdown",
      "metadata": {
        "id": "A7EQKRgM3HMo"
      },
      "source": [
        "## GradCAM (Misclassified)\n"
      ]
    },
    {
      "cell_type": "code",
      "execution_count": null,
      "metadata": {
        "colab": {
          "base_uri": "https://localhost:8080/",
          "height": 383
        },
        "id": "tyUQLHcW3HMp",
        "outputId": "c8cf833a-f98c-4967-9272-e0322c1651d1"
      },
      "outputs": [],
      "source": [
        "# Plot misclassified images\n",
        "fig, axs = plot_gradcam_images(\n",
        "    model=model,\n",
        "    data=misclassified_image_data,\n",
        "    class_label=classes,\n",
        "    # Use penultimate block of resnet18 layer 3 as the target layer for gradcam\n",
        "    # Decided using model summary so that dimensions > 7x7\n",
        "    target_layers=[model.layer3_r2[-1]],\n",
        "    targets=None,\n",
        "    num_images=10,\n",
        "    image_weight=0.1,\n",
        ")\n",
        "plt.show()\n",
        "# plt.savefig(\"GradCAM Images.png\")"
      ]
    }
  ],
  "metadata": {
    "accelerator": "GPU",
    "colab": {
      "provenance": []
    },
    "kernelspec": {
      "display_name": "Python 3",
      "name": "python3"
    },
    "language_info": {
      "codemirror_mode": {
        "name": "ipython",
        "version": 3
      },
      "file_extension": ".py",
      "mimetype": "text/x-python",
      "name": "python",
      "nbconvert_exporter": "python",
      "pygments_lexer": "ipython3",
      "version": "3.11.4"
    },
    "widgets": {
      "application/vnd.jupyter.widget-state+json": {
        "013ee99532a149fa875c4fde6268e575": {
          "model_module": "@jupyter-widgets/base",
          "model_module_version": "1.2.0",
          "model_name": "LayoutModel",
          "state": {
            "_model_module": "@jupyter-widgets/base",
            "_model_module_version": "1.2.0",
            "_model_name": "LayoutModel",
            "_view_count": null,
            "_view_module": "@jupyter-widgets/base",
            "_view_module_version": "1.2.0",
            "_view_name": "LayoutView",
            "align_content": null,
            "align_items": null,
            "align_self": null,
            "border": null,
            "bottom": null,
            "display": null,
            "flex": null,
            "flex_flow": null,
            "grid_area": null,
            "grid_auto_columns": null,
            "grid_auto_flow": null,
            "grid_auto_rows": null,
            "grid_column": null,
            "grid_gap": null,
            "grid_row": null,
            "grid_template_areas": null,
            "grid_template_columns": null,
            "grid_template_rows": null,
            "height": null,
            "justify_content": null,
            "justify_items": null,
            "left": null,
            "margin": null,
            "max_height": null,
            "max_width": null,
            "min_height": null,
            "min_width": null,
            "object_fit": null,
            "object_position": null,
            "order": null,
            "overflow": null,
            "overflow_x": null,
            "overflow_y": null,
            "padding": null,
            "right": null,
            "top": null,
            "visibility": null,
            "width": null
          }
        },
        "08b95bf5a8d14375b68b9a1ab1f98939": {
          "model_module": "@jupyter-widgets/controls",
          "model_module_version": "1.5.0",
          "model_name": "FloatProgressModel",
          "state": {
            "_dom_classes": [],
            "_model_module": "@jupyter-widgets/controls",
            "_model_module_version": "1.5.0",
            "_model_name": "FloatProgressModel",
            "_view_count": null,
            "_view_module": "@jupyter-widgets/controls",
            "_view_module_version": "1.5.0",
            "_view_name": "ProgressView",
            "bar_style": "danger",
            "description": "",
            "description_tooltip": null,
            "layout": "IPY_MODEL_76295959ece94c8a8dfa01b4e795895a",
            "max": 100,
            "min": 0,
            "orientation": "horizontal",
            "style": "IPY_MODEL_23ebb0966acf42fa8b32b1d0ea90e34d",
            "value": 82
          }
        },
        "0a2c04ada26541099febf3c4a691fc2c": {
          "model_module": "@jupyter-widgets/controls",
          "model_module_version": "1.5.0",
          "model_name": "DescriptionStyleModel",
          "state": {
            "_model_module": "@jupyter-widgets/controls",
            "_model_module_version": "1.5.0",
            "_model_name": "DescriptionStyleModel",
            "_view_count": null,
            "_view_module": "@jupyter-widgets/base",
            "_view_module_version": "1.2.0",
            "_view_name": "StyleView",
            "description_width": ""
          }
        },
        "23ebb0966acf42fa8b32b1d0ea90e34d": {
          "model_module": "@jupyter-widgets/controls",
          "model_module_version": "1.5.0",
          "model_name": "ProgressStyleModel",
          "state": {
            "_model_module": "@jupyter-widgets/controls",
            "_model_module_version": "1.5.0",
            "_model_name": "ProgressStyleModel",
            "_view_count": null,
            "_view_module": "@jupyter-widgets/base",
            "_view_module_version": "1.2.0",
            "_view_name": "StyleView",
            "bar_color": null,
            "description_width": ""
          }
        },
        "6055ff2e295548de8fa872465aa7b759": {
          "model_module": "@jupyter-widgets/controls",
          "model_module_version": "1.5.0",
          "model_name": "HTMLModel",
          "state": {
            "_dom_classes": [],
            "_model_module": "@jupyter-widgets/controls",
            "_model_module_version": "1.5.0",
            "_model_name": "HTMLModel",
            "_view_count": null,
            "_view_module": "@jupyter-widgets/controls",
            "_view_module_version": "1.5.0",
            "_view_name": "HTMLView",
            "description": "",
            "description_tooltip": null,
            "layout": "IPY_MODEL_761ea8989312488789d2afd907aa50c7",
            "placeholder": "​",
            "style": "IPY_MODEL_62fd5270780a4607801003f493acf68e",
            "value": " 82%"
          }
        },
        "62fd5270780a4607801003f493acf68e": {
          "model_module": "@jupyter-widgets/controls",
          "model_module_version": "1.5.0",
          "model_name": "DescriptionStyleModel",
          "state": {
            "_model_module": "@jupyter-widgets/controls",
            "_model_module_version": "1.5.0",
            "_model_name": "DescriptionStyleModel",
            "_view_count": null,
            "_view_module": "@jupyter-widgets/base",
            "_view_module_version": "1.2.0",
            "_view_name": "StyleView",
            "description_width": ""
          }
        },
        "761ea8989312488789d2afd907aa50c7": {
          "model_module": "@jupyter-widgets/base",
          "model_module_version": "1.2.0",
          "model_name": "LayoutModel",
          "state": {
            "_model_module": "@jupyter-widgets/base",
            "_model_module_version": "1.2.0",
            "_model_name": "LayoutModel",
            "_view_count": null,
            "_view_module": "@jupyter-widgets/base",
            "_view_module_version": "1.2.0",
            "_view_name": "LayoutView",
            "align_content": null,
            "align_items": null,
            "align_self": null,
            "border": null,
            "bottom": null,
            "display": null,
            "flex": null,
            "flex_flow": null,
            "grid_area": null,
            "grid_auto_columns": null,
            "grid_auto_flow": null,
            "grid_auto_rows": null,
            "grid_column": null,
            "grid_gap": null,
            "grid_row": null,
            "grid_template_areas": null,
            "grid_template_columns": null,
            "grid_template_rows": null,
            "height": null,
            "justify_content": null,
            "justify_items": null,
            "left": null,
            "margin": null,
            "max_height": null,
            "max_width": null,
            "min_height": null,
            "min_width": null,
            "object_fit": null,
            "object_position": null,
            "order": null,
            "overflow": null,
            "overflow_x": null,
            "overflow_y": null,
            "padding": null,
            "right": null,
            "top": null,
            "visibility": null,
            "width": null
          }
        },
        "76295959ece94c8a8dfa01b4e795895a": {
          "model_module": "@jupyter-widgets/base",
          "model_module_version": "1.2.0",
          "model_name": "LayoutModel",
          "state": {
            "_model_module": "@jupyter-widgets/base",
            "_model_module_version": "1.2.0",
            "_model_name": "LayoutModel",
            "_view_count": null,
            "_view_module": "@jupyter-widgets/base",
            "_view_module_version": "1.2.0",
            "_view_name": "LayoutView",
            "align_content": null,
            "align_items": null,
            "align_self": null,
            "border": null,
            "bottom": null,
            "display": null,
            "flex": null,
            "flex_flow": null,
            "grid_area": null,
            "grid_auto_columns": null,
            "grid_auto_flow": null,
            "grid_auto_rows": null,
            "grid_column": null,
            "grid_gap": null,
            "grid_row": null,
            "grid_template_areas": null,
            "grid_template_columns": null,
            "grid_template_rows": null,
            "height": null,
            "justify_content": null,
            "justify_items": null,
            "left": null,
            "margin": null,
            "max_height": null,
            "max_width": null,
            "min_height": null,
            "min_width": null,
            "object_fit": null,
            "object_position": null,
            "order": null,
            "overflow": null,
            "overflow_x": null,
            "overflow_y": null,
            "padding": null,
            "right": null,
            "top": null,
            "visibility": null,
            "width": null
          }
        },
        "d2a2ef3f2d1443809f7c70ffe17adab7": {
          "model_module": "@jupyter-widgets/controls",
          "model_module_version": "1.5.0",
          "model_name": "HBoxModel",
          "state": {
            "_dom_classes": [],
            "_model_module": "@jupyter-widgets/controls",
            "_model_module_version": "1.5.0",
            "_model_name": "HBoxModel",
            "_view_count": null,
            "_view_module": "@jupyter-widgets/controls",
            "_view_module_version": "1.5.0",
            "_view_name": "HBoxView",
            "box_style": "",
            "children": [
              "IPY_MODEL_6055ff2e295548de8fa872465aa7b759",
              "IPY_MODEL_08b95bf5a8d14375b68b9a1ab1f98939",
              "IPY_MODEL_d67467d272064384a3aa0ac53c7e6733"
            ],
            "layout": "IPY_MODEL_df7296834d0943e5a714d5a0e44045e1"
          }
        },
        "d67467d272064384a3aa0ac53c7e6733": {
          "model_module": "@jupyter-widgets/controls",
          "model_module_version": "1.5.0",
          "model_name": "HTMLModel",
          "state": {
            "_dom_classes": [],
            "_model_module": "@jupyter-widgets/controls",
            "_model_module_version": "1.5.0",
            "_model_name": "HTMLModel",
            "_view_count": null,
            "_view_module": "@jupyter-widgets/controls",
            "_view_module_version": "1.5.0",
            "_view_name": "HTMLView",
            "description": "",
            "description_tooltip": null,
            "layout": "IPY_MODEL_013ee99532a149fa875c4fde6268e575",
            "placeholder": "​",
            "style": "IPY_MODEL_0a2c04ada26541099febf3c4a691fc2c",
            "value": " 82/100 [00:35&lt;00:07,  2.46it/s]"
          }
        },
        "df7296834d0943e5a714d5a0e44045e1": {
          "model_module": "@jupyter-widgets/base",
          "model_module_version": "1.2.0",
          "model_name": "LayoutModel",
          "state": {
            "_model_module": "@jupyter-widgets/base",
            "_model_module_version": "1.2.0",
            "_model_name": "LayoutModel",
            "_view_count": null,
            "_view_module": "@jupyter-widgets/base",
            "_view_module_version": "1.2.0",
            "_view_name": "LayoutView",
            "align_content": null,
            "align_items": null,
            "align_self": null,
            "border": null,
            "bottom": null,
            "display": null,
            "flex": null,
            "flex_flow": null,
            "grid_area": null,
            "grid_auto_columns": null,
            "grid_auto_flow": null,
            "grid_auto_rows": null,
            "grid_column": null,
            "grid_gap": null,
            "grid_row": null,
            "grid_template_areas": null,
            "grid_template_columns": null,
            "grid_template_rows": null,
            "height": null,
            "justify_content": null,
            "justify_items": null,
            "left": null,
            "margin": null,
            "max_height": null,
            "max_width": null,
            "min_height": null,
            "min_width": null,
            "object_fit": null,
            "object_position": null,
            "order": null,
            "overflow": null,
            "overflow_x": null,
            "overflow_y": null,
            "padding": null,
            "right": null,
            "top": null,
            "visibility": null,
            "width": null
          }
        }
      }
    }
  },
  "nbformat": 4,
  "nbformat_minor": 0
}
