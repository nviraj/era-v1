{
  "cells": [
    {
      "cell_type": "code",
      "execution_count": 1,
      "metadata": {
        "colab": {
          "base_uri": "https://localhost:8080/"
        },
        "id": "KnPShbNez-FN",
        "outputId": "cff6928c-4740-43e6-deb2-e3f4f76bf43a"
      },
      "outputs": [
        {
          "output_type": "stream",
          "name": "stdout",
          "text": [
            "Looking in indexes: https://pypi.org/simple, https://us-python.pkg.dev/colab-wheels/public/simple/\n",
            "Requirement already satisfied: torchsummary in /usr/local/lib/python3.10/dist-packages (1.5.1)\n"
          ]
        }
      ],
      "source": [
        "## Install required packages\n",
        "!pip install torchsummary"
      ]
    },
    {
      "cell_type": "code",
      "execution_count": 2,
      "metadata": {
        "id": "0m2JWFliFfKT"
      },
      "outputs": [],
      "source": [
        "# Import required packages\n",
        "from __future__ import print_function\n",
        "\n",
        "import torch\n",
        "import torch.nn as nn\n",
        "import torch.nn.functional as F\n",
        "import torch.optim as optim\n",
        "from torchsummary import summary\n",
        "from torchvision import datasets, transforms\n",
        "from tqdm import tqdm"
      ]
    },
    {
      "cell_type": "code",
      "execution_count": 3,
      "metadata": {
        "id": "h_Cx9q2QFgM7"
      },
      "outputs": [],
      "source": [
        "# Class to define the NN model\n",
        "class Net(nn.Module):\n",
        "    def __init__(self):\n",
        "        super(Net, self).__init__()\n",
        "\n",
        "        # # Reference Links\n",
        "        # https://pytorch.org/tutorials/recipes/recipes/defining_a_neural_network.html\n",
        "        # https://pytorch.org/docs/stable/generated/torch.nn.Sequential.html\n",
        "        # https://pytorch.org/docs/stable/generated/torch.nn.Conv2d.html\n",
        "        # https://pytorch.org/docs/stable/generated/torch.nn.BatchNorm2d.html\n",
        "        # https://pytorch.org/docs/stable/generated/torch.nn.Dropout.html\n",
        "        # https://pytorch.org/docs/stable/generated/torch.nn.Linear.html\n",
        "        # https://pytorch.org/docs/stable/generated/torch.nn.ReLU.html\n",
        "        # https://pytorch.org/docs/stable/generated/torch.nn.AdaptiveAvgPool2d.html\n",
        "        # https://pytorch.org/docs/stable/generated/torch.Tensor.view.html\n",
        "\n",
        "        # Using Sequential API to define the model as it seems to be more readable\n",
        "\n",
        "        # General Notes\n",
        "\n",
        "        # ReLU used after every Convolution layer\n",
        "        # Batch Normalization used after every Convolution layer\n",
        "        # Dropout used after every block/ layer\n",
        "        # Max Pooling preferably used after every block\n",
        "        # GAP used at the end of the model\n",
        "\n",
        "        # Sequence in a block could be as follows\n",
        "        # Convolution Layer -> ReLU -> Batch Normalization -> Max Pooling -> Dropout\n",
        "\n",
        "        # Block 1\n",
        "        self.block1 = nn.Sequential(\n",
        "            nn.Conv2d(1, 16, 3, bias=False),\n",
        "            nn.ReLU(),\n",
        "            nn.BatchNorm2d(16),\n",
        "            nn.Conv2d(16, 16, 3, bias=False),\n",
        "            nn.ReLU(),\n",
        "            nn.BatchNorm2d(16),\n",
        "            nn.Conv2d(16, 16, 3, bias=False),\n",
        "            nn.ReLU(),\n",
        "            nn.BatchNorm2d(16),    \n",
        "            # nn.MaxPool2d(2, 2),          \n",
        "            nn.Dropout(0.05)\n",
        "        )\n",
        "\n",
        "        # Block 2\n",
        "        self.block2 = nn.Sequential(\n",
        "            nn.Conv2d(16, 16, 3, bias=False),\n",
        "            nn.ReLU(),\n",
        "            nn.BatchNorm2d(16),\n",
        "            nn.Dropout(0.1),\n",
        "            nn.Conv2d(16, 16, 3, bias=False),\n",
        "            nn.ReLU(),\n",
        "            nn.BatchNorm2d(16),\n",
        "            nn.Dropout(0.1),\n",
        "            nn.Conv2d(16, 16, 3, bias=False),\n",
        "            nn.ReLU(),\n",
        "            nn.BatchNorm2d(16),    \n",
        "            nn.MaxPool2d(2, 2),  \n",
        "            nn.Dropout(0.1)\n",
        "        )\n",
        "\n",
        "        # Block 3\n",
        "        self.block3 = nn.Sequential(\n",
        "            nn.Conv2d(16, 32, 3, bias=False),\n",
        "            nn.ReLU(),\n",
        "            nn.Dropout(0.2)\n",
        "        )\n",
        "\n",
        "        # Gap layer\n",
        "        self.block4 = nn.Sequential(\n",
        "            # nn.AdaptiveAvgPool2d(1),\n",
        "            nn.AvgPool2d(kernel_size=5),\n",
        "            nn.Flatten(),\n",
        "            nn.Linear(32, 10)\n",
        "        )\n",
        "\n",
        "    def forward(self, x):\n",
        "        x = self.block1(x)\n",
        "        # print(x.shape)\n",
        "\n",
        "        x = self.block2(x)\n",
        "        # print(x.shape)\n",
        "\n",
        "        x = self.block3(x)\n",
        "        # print(x.shape)\n",
        "\n",
        "        x = self.block4(x)\n",
        "        # print(x.shape)\n",
        "\n",
        "        return F.log_softmax(x)"
      ]
    },
    {
      "cell_type": "code",
      "execution_count": 4,
      "metadata": {
        "id": "xdydjYTZFyi3",
        "colab": {
          "base_uri": "https://localhost:8080/"
        },
        "outputId": "acbdd572-97bf-4094-913d-17909e164b13"
      },
      "outputs": [
        {
          "output_type": "stream",
          "name": "stdout",
          "text": [
            "----------------------------------------------------------------\n",
            "        Layer (type)               Output Shape         Param #\n",
            "================================================================\n",
            "            Conv2d-1           [-1, 16, 26, 26]             144\n",
            "              ReLU-2           [-1, 16, 26, 26]               0\n",
            "       BatchNorm2d-3           [-1, 16, 26, 26]              32\n",
            "            Conv2d-4           [-1, 16, 24, 24]           2,304\n",
            "              ReLU-5           [-1, 16, 24, 24]               0\n",
            "       BatchNorm2d-6           [-1, 16, 24, 24]              32\n",
            "            Conv2d-7           [-1, 16, 22, 22]           2,304\n",
            "              ReLU-8           [-1, 16, 22, 22]               0\n",
            "       BatchNorm2d-9           [-1, 16, 22, 22]              32\n",
            "          Dropout-10           [-1, 16, 22, 22]               0\n",
            "           Conv2d-11           [-1, 16, 20, 20]           2,304\n",
            "             ReLU-12           [-1, 16, 20, 20]               0\n",
            "      BatchNorm2d-13           [-1, 16, 20, 20]              32\n",
            "          Dropout-14           [-1, 16, 20, 20]               0\n",
            "           Conv2d-15           [-1, 16, 18, 18]           2,304\n",
            "             ReLU-16           [-1, 16, 18, 18]               0\n",
            "      BatchNorm2d-17           [-1, 16, 18, 18]              32\n",
            "          Dropout-18           [-1, 16, 18, 18]               0\n",
            "           Conv2d-19           [-1, 16, 16, 16]           2,304\n",
            "             ReLU-20           [-1, 16, 16, 16]               0\n",
            "      BatchNorm2d-21           [-1, 16, 16, 16]              32\n",
            "        MaxPool2d-22             [-1, 16, 8, 8]               0\n",
            "          Dropout-23             [-1, 16, 8, 8]               0\n",
            "           Conv2d-24             [-1, 32, 6, 6]           4,608\n",
            "             ReLU-25             [-1, 32, 6, 6]               0\n",
            "          Dropout-26             [-1, 32, 6, 6]               0\n",
            "        AvgPool2d-27             [-1, 32, 1, 1]               0\n",
            "          Flatten-28                   [-1, 32]               0\n",
            "           Linear-29                   [-1, 10]             330\n",
            "================================================================\n",
            "Total params: 16,794\n",
            "Trainable params: 16,794\n",
            "Non-trainable params: 0\n",
            "----------------------------------------------------------------\n",
            "Input size (MB): 0.00\n",
            "Forward/backward pass size (MB): 1.18\n",
            "Params size (MB): 0.06\n",
            "Estimated Total Size (MB): 1.25\n",
            "----------------------------------------------------------------\n"
          ]
        },
        {
          "output_type": "stream",
          "name": "stderr",
          "text": [
            "<ipython-input-3-9116044ce349>:90: UserWarning: Implicit dimension choice for log_softmax has been deprecated. Change the call to include dim=X as an argument.\n",
            "  return F.log_softmax(x)\n"
          ]
        }
      ],
      "source": [
        "# Check if GPU is available and set device accordingly\n",
        "use_cuda = torch.cuda.is_available()\n",
        "device = torch.device(\"cuda\" if use_cuda else \"cpu\")\n",
        "\n",
        "# Move model to device and print summary given image size\n",
        "model = Net().to(device)\n",
        "summary(model, input_size=(1, 28, 28))"
      ]
    },
    {
      "cell_type": "code",
      "execution_count": 5,
      "metadata": {
        "id": "DqTWLaM5GHgH"
      },
      "outputs": [],
      "source": [
        "# Set seed for consistent results\n",
        "torch.manual_seed(1)\n",
        "# Set batch size\n",
        "batch_size = 64\n",
        "\n",
        "# Set kwargs for GPU if available\n",
        "kwargs = {\"num_workers\": 1, \"pin_memory\": True} if use_cuda else {}\n",
        "\n",
        "# Load train and test data and apply required transformations\n",
        "train_loader = torch.utils.data.DataLoader(\n",
        "    datasets.MNIST(\n",
        "        \"../data\",\n",
        "        train=True,\n",
        "        download=True,\n",
        "        transform=transforms.Compose(\n",
        "            [transforms.ToTensor(), transforms.Normalize((0.1307,), (0.3081,))]\n",
        "        ),\n",
        "    ),\n",
        "    batch_size=batch_size,\n",
        "    shuffle=True,\n",
        "    **kwargs\n",
        ")\n",
        "\n",
        "test_loader = torch.utils.data.DataLoader(\n",
        "    datasets.MNIST(\n",
        "        \"../data\",\n",
        "        train=False,\n",
        "        transform=transforms.Compose(\n",
        "            [transforms.ToTensor(), transforms.Normalize((0.1307,), (0.3081,))]\n",
        "        ),\n",
        "    ),\n",
        "    batch_size=batch_size,\n",
        "    shuffle=True,\n",
        "    **kwargs\n",
        ")"
      ]
    },
    {
      "cell_type": "code",
      "execution_count": 6,
      "metadata": {
        "id": "8fDefDhaFlwH"
      },
      "outputs": [],
      "source": [
        "# Train the model\n",
        "def train(model, device, train_loader, optimizer, epoch):\n",
        "    model.train()\n",
        "    pbar = tqdm(train_loader)\n",
        "    for batch_idx, (data, target) in enumerate(pbar):\n",
        "        data, target = data.to(device), target.to(device)\n",
        "        optimizer.zero_grad()\n",
        "        output = model(data)\n",
        "        loss = F.nll_loss(output, target)\n",
        "        loss.backward()\n",
        "        optimizer.step()\n",
        "        pbar.set_description(desc=f\"loss={loss.item()} batch_id={batch_idx}\")\n",
        "\n",
        "# Test the model\n",
        "def test(model, device, test_loader):\n",
        "    model.eval()\n",
        "    test_loss = 0\n",
        "    correct = 0\n",
        "    with torch.no_grad():\n",
        "        for data, target in test_loader:\n",
        "            data, target = data.to(device), target.to(device)\n",
        "            output = model(data)\n",
        "            test_loss += F.nll_loss(\n",
        "                output, target, reduction=\"sum\"\n",
        "            ).item()  # sum up batch loss\n",
        "            pred = output.argmax(\n",
        "                dim=1, keepdim=True\n",
        "            )  # get the index of the max log-probability\n",
        "            correct += pred.eq(target.view_as(pred)).sum().item()\n",
        "\n",
        "    test_loss /= len(test_loader.dataset)\n",
        "\n",
        "    # print test accuracy and loss\n",
        "    print(\n",
        "        \"\\nTest set: Average loss: {:.4f}, Accuracy: {}/{} ({:.2f}%)\\n\".format(\n",
        "            test_loss,\n",
        "            correct,\n",
        "            len(test_loader.dataset),\n",
        "            100.0 * correct / len(test_loader.dataset),\n",
        "        )\n",
        "    )"
      ]
    },
    {
      "cell_type": "code",
      "execution_count": 7,
      "metadata": {
        "id": "MMWbLWO6FuHb",
        "colab": {
          "base_uri": "https://localhost:8080/"
        },
        "outputId": "69d96975-e865-419c-c263-768856575bb2"
      },
      "outputs": [
        {
          "output_type": "stream",
          "name": "stdout",
          "text": [
            "\n",
            "\n",
            "Batch size: 64, Total epochs: 20\n",
            "\n",
            "\n",
            "\n",
            "Epoch 1:\n",
            "\n"
          ]
        },
        {
          "output_type": "stream",
          "name": "stderr",
          "text": [
            "\r  0%|          | 0/938 [00:00<?, ?it/s]<ipython-input-3-9116044ce349>:90: UserWarning: Implicit dimension choice for log_softmax has been deprecated. Change the call to include dim=X as an argument.\n",
            "  return F.log_softmax(x)\n",
            "loss=0.07399705052375793 batch_id=937: 100%|██████████| 938/938 [00:28<00:00, 32.69it/s]\n"
          ]
        },
        {
          "output_type": "stream",
          "name": "stdout",
          "text": [
            "\n",
            "Test set: Average loss: 0.0751, Accuracy: 9767/10000 (97.67%)\n",
            "\n",
            "\n",
            "Epoch 2:\n",
            "\n"
          ]
        },
        {
          "output_type": "stream",
          "name": "stderr",
          "text": [
            "loss=0.011578676290810108 batch_id=937: 100%|██████████| 938/938 [00:24<00:00, 38.84it/s]\n"
          ]
        },
        {
          "output_type": "stream",
          "name": "stdout",
          "text": [
            "\n",
            "Test set: Average loss: 0.0491, Accuracy: 9836/10000 (98.36%)\n",
            "\n",
            "\n",
            "Epoch 3:\n",
            "\n"
          ]
        },
        {
          "output_type": "stream",
          "name": "stderr",
          "text": [
            "loss=0.12011723220348358 batch_id=937: 100%|██████████| 938/938 [00:24<00:00, 38.49it/s]\n"
          ]
        },
        {
          "output_type": "stream",
          "name": "stdout",
          "text": [
            "\n",
            "Test set: Average loss: 0.0346, Accuracy: 9891/10000 (98.91%)\n",
            "\n",
            "\n",
            "Epoch 4:\n",
            "\n"
          ]
        },
        {
          "output_type": "stream",
          "name": "stderr",
          "text": [
            "loss=0.005708967335522175 batch_id=937: 100%|██████████| 938/938 [00:24<00:00, 37.93it/s]\n"
          ]
        },
        {
          "output_type": "stream",
          "name": "stdout",
          "text": [
            "\n",
            "Test set: Average loss: 0.0375, Accuracy: 9887/10000 (98.87%)\n",
            "\n",
            "\n",
            "Epoch 5:\n",
            "\n"
          ]
        },
        {
          "output_type": "stream",
          "name": "stderr",
          "text": [
            "loss=0.006613784935325384 batch_id=937: 100%|██████████| 938/938 [00:24<00:00, 38.85it/s]\n"
          ]
        },
        {
          "output_type": "stream",
          "name": "stdout",
          "text": [
            "\n",
            "Test set: Average loss: 0.0305, Accuracy: 9908/10000 (99.08%)\n",
            "\n",
            "\n",
            "Epoch 6:\n",
            "\n"
          ]
        },
        {
          "output_type": "stream",
          "name": "stderr",
          "text": [
            "loss=0.0031611670274287462 batch_id=937: 100%|██████████| 938/938 [00:24<00:00, 38.48it/s]\n"
          ]
        },
        {
          "output_type": "stream",
          "name": "stdout",
          "text": [
            "\n",
            "Test set: Average loss: 0.0274, Accuracy: 9909/10000 (99.09%)\n",
            "\n",
            "\n",
            "Epoch 7:\n",
            "\n"
          ]
        },
        {
          "output_type": "stream",
          "name": "stderr",
          "text": [
            "loss=0.01370773185044527 batch_id=937: 100%|██████████| 938/938 [00:23<00:00, 39.14it/s]\n"
          ]
        },
        {
          "output_type": "stream",
          "name": "stdout",
          "text": [
            "\n",
            "Test set: Average loss: 0.0252, Accuracy: 9919/10000 (99.19%)\n",
            "\n",
            "\n",
            "Epoch 8:\n",
            "\n"
          ]
        },
        {
          "output_type": "stream",
          "name": "stderr",
          "text": [
            "loss=0.019564950838685036 batch_id=937: 100%|██████████| 938/938 [00:24<00:00, 39.01it/s]\n"
          ]
        },
        {
          "output_type": "stream",
          "name": "stdout",
          "text": [
            "\n",
            "Test set: Average loss: 0.0238, Accuracy: 9920/10000 (99.20%)\n",
            "\n",
            "\n",
            "Epoch 9:\n",
            "\n"
          ]
        },
        {
          "output_type": "stream",
          "name": "stderr",
          "text": [
            "loss=0.013969328254461288 batch_id=937: 100%|██████████| 938/938 [00:24<00:00, 38.58it/s]\n"
          ]
        },
        {
          "output_type": "stream",
          "name": "stdout",
          "text": [
            "\n",
            "Test set: Average loss: 0.0271, Accuracy: 9915/10000 (99.15%)\n",
            "\n",
            "\n",
            "Epoch 10:\n",
            "\n"
          ]
        },
        {
          "output_type": "stream",
          "name": "stderr",
          "text": [
            "loss=0.003374333493411541 batch_id=937: 100%|██████████| 938/938 [00:25<00:00, 37.39it/s]\n"
          ]
        },
        {
          "output_type": "stream",
          "name": "stdout",
          "text": [
            "\n",
            "Test set: Average loss: 0.0221, Accuracy: 9921/10000 (99.21%)\n",
            "\n",
            "\n",
            "Epoch 11:\n",
            "\n"
          ]
        },
        {
          "output_type": "stream",
          "name": "stderr",
          "text": [
            "loss=0.008000132627785206 batch_id=937: 100%|██████████| 938/938 [00:24<00:00, 38.66it/s]\n"
          ]
        },
        {
          "output_type": "stream",
          "name": "stdout",
          "text": [
            "\n",
            "Test set: Average loss: 0.0224, Accuracy: 9925/10000 (99.25%)\n",
            "\n",
            "\n",
            "Epoch 12:\n",
            "\n"
          ]
        },
        {
          "output_type": "stream",
          "name": "stderr",
          "text": [
            "loss=0.0007104111136868596 batch_id=937: 100%|██████████| 938/938 [00:24<00:00, 39.00it/s]\n"
          ]
        },
        {
          "output_type": "stream",
          "name": "stdout",
          "text": [
            "\n",
            "Test set: Average loss: 0.0280, Accuracy: 9911/10000 (99.11%)\n",
            "\n",
            "\n",
            "Epoch 13:\n",
            "\n"
          ]
        },
        {
          "output_type": "stream",
          "name": "stderr",
          "text": [
            "loss=0.12926724553108215 batch_id=937: 100%|██████████| 938/938 [00:23<00:00, 39.43it/s]\n"
          ]
        },
        {
          "output_type": "stream",
          "name": "stdout",
          "text": [
            "\n",
            "Test set: Average loss: 0.0230, Accuracy: 9920/10000 (99.20%)\n",
            "\n",
            "\n",
            "Epoch 14:\n",
            "\n"
          ]
        },
        {
          "output_type": "stream",
          "name": "stderr",
          "text": [
            "loss=0.0531628243625164 batch_id=937: 100%|██████████| 938/938 [00:24<00:00, 38.82it/s]\n"
          ]
        },
        {
          "output_type": "stream",
          "name": "stdout",
          "text": [
            "\n",
            "Test set: Average loss: 0.0235, Accuracy: 9930/10000 (99.30%)\n",
            "\n",
            "\n",
            "Epoch 15:\n",
            "\n"
          ]
        },
        {
          "output_type": "stream",
          "name": "stderr",
          "text": [
            "loss=0.020672766491770744 batch_id=937: 100%|██████████| 938/938 [00:24<00:00, 38.19it/s]\n"
          ]
        },
        {
          "output_type": "stream",
          "name": "stdout",
          "text": [
            "\n",
            "Test set: Average loss: 0.0222, Accuracy: 9928/10000 (99.28%)\n",
            "\n",
            "\n",
            "Epoch 16:\n",
            "\n"
          ]
        },
        {
          "output_type": "stream",
          "name": "stderr",
          "text": [
            "loss=0.020145611837506294 batch_id=937: 100%|██████████| 938/938 [00:24<00:00, 38.74it/s]\n"
          ]
        },
        {
          "output_type": "stream",
          "name": "stdout",
          "text": [
            "\n",
            "Test set: Average loss: 0.0236, Accuracy: 9927/10000 (99.27%)\n",
            "\n",
            "\n",
            "Epoch 17:\n",
            "\n"
          ]
        },
        {
          "output_type": "stream",
          "name": "stderr",
          "text": [
            "loss=0.00166769465431571 batch_id=937: 100%|██████████| 938/938 [00:24<00:00, 38.39it/s]\n"
          ]
        },
        {
          "output_type": "stream",
          "name": "stdout",
          "text": [
            "\n",
            "Test set: Average loss: 0.0204, Accuracy: 9940/10000 (99.40%)\n",
            "\n",
            "\n",
            "Epoch 18:\n",
            "\n"
          ]
        },
        {
          "output_type": "stream",
          "name": "stderr",
          "text": [
            "loss=0.0014211897505447268 batch_id=937: 100%|██████████| 938/938 [00:24<00:00, 38.20it/s]\n"
          ]
        },
        {
          "output_type": "stream",
          "name": "stdout",
          "text": [
            "\n",
            "Test set: Average loss: 0.0201, Accuracy: 9940/10000 (99.40%)\n",
            "\n",
            "\n",
            "Epoch 19:\n",
            "\n"
          ]
        },
        {
          "output_type": "stream",
          "name": "stderr",
          "text": [
            "loss=0.0012599092442542315 batch_id=937: 100%|██████████| 938/938 [00:25<00:00, 36.77it/s]\n"
          ]
        },
        {
          "output_type": "stream",
          "name": "stdout",
          "text": [
            "\n",
            "Test set: Average loss: 0.0225, Accuracy: 9928/10000 (99.28%)\n",
            "\n",
            "\n",
            "Epoch 20:\n",
            "\n"
          ]
        },
        {
          "output_type": "stream",
          "name": "stderr",
          "text": [
            "loss=0.0037880265153944492 batch_id=937: 100%|██████████| 938/938 [00:24<00:00, 38.34it/s]\n"
          ]
        },
        {
          "output_type": "stream",
          "name": "stdout",
          "text": [
            "\n",
            "Test set: Average loss: 0.0237, Accuracy: 9923/10000 (99.23%)\n",
            "\n"
          ]
        }
      ],
      "source": [
        "# Send model to device\n",
        "model = Net().to(device)\n",
        "# Set optimizer\n",
        "optimizer = optim.SGD(model.parameters(), lr=0.008, momentum=0.9)\n",
        "\n",
        "# Specify the number of epochs\n",
        "num_epochs = 20\n",
        "\n",
        "# Train and test the model for specified number of epochs\n",
        "for epoch in range(1, num_epochs + 1):\n",
        "    if epoch == 1:\n",
        "        print(f\"\\n\\nBatch size: {batch_size}, Total epochs: {num_epochs}\\n\\n\")\n",
        "\n",
        "    print(f\"\\nEpoch {epoch}:\\n\")\n",
        "    train(model, device, train_loader, optimizer, epoch)\n",
        "    test(model, device, test_loader)"
      ]
    },
    {
      "cell_type": "code",
      "source": [],
      "metadata": {
        "id": "d6OOijdz0Q5a"
      },
      "execution_count": 7,
      "outputs": []
    }
  ],
  "metadata": {
    "accelerator": "GPU",
    "colab": {
      "provenance": []
    },
    "kernelspec": {
      "display_name": "Python 3",
      "name": "python3"
    },
    "language_info": {
      "codemirror_mode": {
        "name": "ipython",
        "version": 3
      },
      "file_extension": ".py",
      "mimetype": "text/x-python",
      "name": "python",
      "nbconvert_exporter": "python",
      "pygments_lexer": "ipython3",
      "version": "3.11.3"
    }
  },
  "nbformat": 4,
  "nbformat_minor": 0
}