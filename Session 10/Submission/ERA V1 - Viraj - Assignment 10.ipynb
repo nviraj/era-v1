{
  "cells": [
    {
      "cell_type": "markdown",
      "metadata": {
        "id": "bw8mN4mWaJwt"
      },
      "source": [
        "# Assignment 10 - Viraj Noorithaya\n"
      ]
    },
    {
      "cell_type": "markdown",
      "metadata": {
        "id": "i5EJaJ6PaJwu"
      },
      "source": [
        "## Script Parameters\n"
      ]
    },
    {
      "cell_type": "code",
      "execution_count": 1,
      "metadata": {
        "id": "cm_GkK-maJwv"
      },
      "outputs": [],
      "source": [
        "# Where are you running this? Can be either 'local' or 'colab'\n",
        "model_run_location = \"colab\"\n",
        "\n",
        "# # Do you want to install the required packages?\n",
        "# install_required_packages = False\n",
        "install_required_packages = False if model_run_location == \"local\" else True\n",
        "\n",
        "# git repository url\n",
        "repo_name = \"era-v1\"\n",
        "git_repo_url = \"https://github.com/nviraj/era-v1.git\"\n",
        "\n",
        "# Is the model being developed or is it in production?\n",
        "# Can be development or production\n",
        "code_mode = \"development\"\n",
        "\n",
        "# WHich branch are you working on?\n",
        "branch_name = \"week-10\" if code_mode == \"development\" else \"main\"\n",
        "folder_name = \"Session 10/Submission\""
      ]
    },
    {
      "cell_type": "markdown",
      "metadata": {
        "id": "TEku13Z9uGHX"
      },
      "source": [
        "## Library Installation (Optional)\n"
      ]
    },
    {
      "cell_type": "code",
      "execution_count": 2,
      "metadata": {
        "colab": {
          "base_uri": "https://localhost:8080/"
        },
        "id": "ehhA4GGpaJww",
        "outputId": "7858e13c-6073-4a12-9409-edb1d4e17077"
      },
      "outputs": [
        {
          "output_type": "stream",
          "name": "stdout",
          "text": [
            "Collecting torch-lr-finder\n",
            "  Downloading torch_lr_finder-0.2.1-py3-none-any.whl (11 kB)\n",
            "Requirement already satisfied: matplotlib in /usr/local/lib/python3.10/dist-packages (from torch-lr-finder) (3.7.1)\n",
            "Requirement already satisfied: numpy in /usr/local/lib/python3.10/dist-packages (from torch-lr-finder) (1.22.4)\n",
            "Requirement already satisfied: torch>=0.4.1 in /usr/local/lib/python3.10/dist-packages (from torch-lr-finder) (2.0.1+cu118)\n",
            "Requirement already satisfied: tqdm in /usr/local/lib/python3.10/dist-packages (from torch-lr-finder) (4.65.0)\n",
            "Requirement already satisfied: packaging in /usr/local/lib/python3.10/dist-packages (from torch-lr-finder) (23.1)\n",
            "Requirement already satisfied: filelock in /usr/local/lib/python3.10/dist-packages (from torch>=0.4.1->torch-lr-finder) (3.12.2)\n",
            "Requirement already satisfied: typing-extensions in /usr/local/lib/python3.10/dist-packages (from torch>=0.4.1->torch-lr-finder) (4.7.1)\n",
            "Requirement already satisfied: sympy in /usr/local/lib/python3.10/dist-packages (from torch>=0.4.1->torch-lr-finder) (1.11.1)\n",
            "Requirement already satisfied: networkx in /usr/local/lib/python3.10/dist-packages (from torch>=0.4.1->torch-lr-finder) (3.1)\n",
            "Requirement already satisfied: jinja2 in /usr/local/lib/python3.10/dist-packages (from torch>=0.4.1->torch-lr-finder) (3.1.2)\n",
            "Requirement already satisfied: triton==2.0.0 in /usr/local/lib/python3.10/dist-packages (from torch>=0.4.1->torch-lr-finder) (2.0.0)\n",
            "Requirement already satisfied: cmake in /usr/local/lib/python3.10/dist-packages (from triton==2.0.0->torch>=0.4.1->torch-lr-finder) (3.25.2)\n",
            "Requirement already satisfied: lit in /usr/local/lib/python3.10/dist-packages (from triton==2.0.0->torch>=0.4.1->torch-lr-finder) (16.0.6)\n",
            "Requirement already satisfied: contourpy>=1.0.1 in /usr/local/lib/python3.10/dist-packages (from matplotlib->torch-lr-finder) (1.1.0)\n",
            "Requirement already satisfied: cycler>=0.10 in /usr/local/lib/python3.10/dist-packages (from matplotlib->torch-lr-finder) (0.11.0)\n",
            "Requirement already satisfied: fonttools>=4.22.0 in /usr/local/lib/python3.10/dist-packages (from matplotlib->torch-lr-finder) (4.41.0)\n",
            "Requirement already satisfied: kiwisolver>=1.0.1 in /usr/local/lib/python3.10/dist-packages (from matplotlib->torch-lr-finder) (1.4.4)\n",
            "Requirement already satisfied: pillow>=6.2.0 in /usr/local/lib/python3.10/dist-packages (from matplotlib->torch-lr-finder) (8.4.0)\n",
            "Requirement already satisfied: pyparsing>=2.3.1 in /usr/local/lib/python3.10/dist-packages (from matplotlib->torch-lr-finder) (3.1.0)\n",
            "Requirement already satisfied: python-dateutil>=2.7 in /usr/local/lib/python3.10/dist-packages (from matplotlib->torch-lr-finder) (2.8.2)\n",
            "Requirement already satisfied: six>=1.5 in /usr/local/lib/python3.10/dist-packages (from python-dateutil>=2.7->matplotlib->torch-lr-finder) (1.16.0)\n",
            "Requirement already satisfied: MarkupSafe>=2.0 in /usr/local/lib/python3.10/dist-packages (from jinja2->torch>=0.4.1->torch-lr-finder) (2.1.3)\n",
            "Requirement already satisfied: mpmath>=0.19 in /usr/local/lib/python3.10/dist-packages (from sympy->torch>=0.4.1->torch-lr-finder) (1.3.0)\n",
            "Installing collected packages: torch-lr-finder\n",
            "Successfully installed torch-lr-finder-0.2.1\n",
            "Collecting torchinfo\n",
            "  Downloading torchinfo-1.8.0-py3-none-any.whl (23 kB)\n",
            "Installing collected packages: torchinfo\n",
            "Successfully installed torchinfo-1.8.0\n"
          ]
        }
      ],
      "source": [
        "# # Install any required libraries not present in your working environment\n",
        "\n",
        "if install_required_packages:\n",
        "    # # Needed locally and in colab\n",
        "    # !pip install torchsummary\n",
        "    # !conda install -c frgfm torchscan\n",
        "\n",
        "    import sys\n",
        "    # !{sys.executable} -m pip install torchsummary\n",
        "    !{sys.executable} -m pip install torch-lr-finder\n",
        "    !{sys.executable} -m pip install torchinfo\n",
        "\n",
        "    # if model_run_location == 'colab':\n",
        "    #     !{sys.executable} -m pip install albumentations\n",
        "\n",
        "    # # Needed locally\n",
        "    # !conda install -c conda-forge tqdm\n",
        "    # !conda install -c anaconda ipywidgets\n",
        "\n",
        "    if model_run_location == 'local':\n",
        "        %conda install --yes --prefix {sys.prefix} -c conda-forge tqdm\n",
        "        %conda install --yes --prefix {sys.prefix} -c anaconda ipywidgets\n",
        "        %conda install --yes --prefix {sys.prefix} -c conda-forge imgaug\n",
        "        %conda install --yes --prefix {sys.prefix} -c conda-forge albumentations\n"
      ]
    },
    {
      "cell_type": "markdown",
      "metadata": {
        "id": "W4vt-IWCaJwx"
      },
      "source": [
        "## Code Procurement\n"
      ]
    },
    {
      "cell_type": "code",
      "execution_count": 3,
      "metadata": {
        "colab": {
          "base_uri": "https://localhost:8080/"
        },
        "id": "cJHG1vnqaJwx",
        "outputId": "da8a5537-4bad-4e49-e3c8-5cfd4676670c"
      },
      "outputs": [
        {
          "output_type": "stream",
          "name": "stdout",
          "text": [
            "Cloning into 'era-v1'...\n",
            "remote: Enumerating objects: 1118, done.\u001b[K\n",
            "remote: Counting objects: 100% (134/134), done.\u001b[K\n",
            "remote: Compressing objects: 100% (87/87), done.\u001b[K\n",
            "remote: Total 1118 (delta 68), reused 95 (delta 47), pack-reused 984\u001b[K\n",
            "Receiving objects: 100% (1118/1118), 6.72 MiB | 29.16 MiB/s, done.\n",
            "Resolving deltas: 100% (561/561), done.\n",
            "Branch 'week-10' set up to track remote branch 'week-10' from 'origin'.\n",
            "Switched to a new branch 'week-10'\n"
          ]
        }
      ],
      "source": [
        "# Mount google drive if running on colab\n",
        "if model_run_location == 'colab':\n",
        "    # from google.colab import drive\n",
        "    # drive.mount('/content/drive')\n",
        "    # %cd /content/drive/MyDrive/WorkSpace/era-v1/Session 10/Submission\n",
        "\n",
        "    # Delete the folder if it exists\n",
        "    # Avoids fatal: destination path already exists and is not an empty directory.\n",
        "    # Get code from github\n",
        "    !rm -rf {repo_name} && git clone {git_repo_url}\n",
        "\n",
        "    # Switch to repo folder, Needed to switch branch\n",
        "    # Switch branch and change to the correct directory\n",
        "    !cd \"{repo_name}\" && git checkout {branch_name} && cd \"{folder_name}\""
      ]
    },
    {
      "cell_type": "markdown",
      "metadata": {
        "id": "jiWmJROnaJwy"
      },
      "source": [
        "## Import Libraries\n"
      ]
    },
    {
      "cell_type": "code",
      "execution_count": 4,
      "metadata": {
        "colab": {
          "base_uri": "https://localhost:8080/"
        },
        "id": "6PlbomWY3RSq",
        "outputId": "d382eaa7-f6c2-465f-af3a-43e11ed6f9db"
      },
      "outputs": [
        {
          "output_type": "stream",
          "name": "stderr",
          "text": [
            "/usr/local/lib/python3.10/dist-packages/torch_lr_finder/lr_finder.py:5: TqdmExperimentalWarning: Using `tqdm.autonotebook.tqdm` in notebook mode. Use `tqdm.tqdm` instead to force console mode (e.g. in jupyter console)\n",
            "  from tqdm.autonotebook import tqdm\n"
          ]
        }
      ],
      "source": [
        "# Import necessary modules (external libs)\n",
        "import os\n",
        "\n",
        "import matplotlib.pyplot as plt\n",
        "import torch\n",
        "import torch.nn.functional as F\n",
        "import torch.optim as optim\n",
        "from torch.optim.lr_scheduler import OneCycleLR\n",
        "from torch_lr_finder import LRFinder\n",
        "\n",
        "# from torchsummary import summary"
      ]
    },
    {
      "cell_type": "code",
      "execution_count": 5,
      "metadata": {
        "colab": {
          "base_uri": "https://localhost:8080/"
        },
        "id": "Q8W4vw6HzC41",
        "outputId": "c793d778-95ee-4a54-8452-bc9fadbe9a83"
      },
      "outputs": [
        {
          "output_type": "stream",
          "name": "stdout",
          "text": [
            "CWD: /content\n",
            "Appending folder to path in order to detect modules: Session 10/Submission\n"
          ]
        }
      ],
      "source": [
        "import sys\n",
        "\n",
        "print(f\"CWD: {os.getcwd()}\")\n",
        "\n",
        "if model_run_location == \"colab\":\n",
        "    print(f\"Appending folder to path in order to detect modules: {folder_name}\")\n",
        "    sys.path.append(f\"era-v1/{folder_name}\")"
      ]
    },
    {
      "cell_type": "code",
      "execution_count": 6,
      "metadata": {
        "id": "WGMvMPH-aJwz"
      },
      "outputs": [],
      "source": [
        "# Import user defined modules\n",
        "from modules.dataset import split_cifar_data, apply_cifar_image_transformations\n",
        "from modules.dataset import CIFAR_MEAN, CIFAR_STD, CIFAR_CLASSES\n",
        "from modules.custom_resnet import CustomResNet as Net\n",
        "from modules.custom_resnet import detailed_model_summary\n",
        "from modules.trainer import train_and_test_model\n",
        "from modules.utils import get_device, save_model, pretty_print_metrics\n",
        "from modules.visualize import (\n",
        "    plot_misclassified_images,\n",
        "    plot_sample_training_images,\n",
        "    plot_train_test_metrics,\n",
        ")"
      ]
    },
    {
      "cell_type": "markdown",
      "metadata": {
        "id": "U71ZcO2yuGHb"
      },
      "source": [
        "## Script Parameters\n"
      ]
    },
    {
      "cell_type": "code",
      "execution_count": 7,
      "metadata": {
        "id": "KxqJvgkiuGHc"
      },
      "outputs": [],
      "source": [
        "# Constants naming convention: All caps separated by underscore\n",
        "# https://realpython.com/python-constants/\n",
        "\n",
        "# Specify the number of epochs\n",
        "NUM_EPOCHS = 24\n",
        "\n",
        "# Set the batch size\n",
        "BATCH_SIZE = 512\n",
        "\n",
        "# Set seed value for reproducibility\n",
        "SEED = 8\n",
        "\n",
        "# Expected accuracy\n",
        "TARGET_ACCURACY = 90.0"
      ]
    },
    {
      "cell_type": "markdown",
      "metadata": {
        "id": "6hdO0QPWuGHd"
      },
      "source": [
        "## Get Device\n"
      ]
    },
    {
      "cell_type": "code",
      "execution_count": 8,
      "metadata": {
        "colab": {
          "base_uri": "https://localhost:8080/"
        },
        "id": "94BxVVBP3WwS",
        "outputId": "dad6bb58-66e2-47aa-bf5c-26ebdb864ed6"
      },
      "outputs": [
        {
          "output_type": "stream",
          "name": "stdout",
          "text": [
            "Device created with cuda!\n"
          ]
        }
      ],
      "source": [
        "# Functionality to check cuda support and create device is now moved to utils.py\n",
        "device_support, device = get_device()\n",
        "print(f\"Device created with {device_support}!\")"
      ]
    },
    {
      "cell_type": "markdown",
      "metadata": {
        "id": "AU810ednTZzd"
      },
      "source": [
        "### Reproducibility settings\n"
      ]
    },
    {
      "cell_type": "code",
      "execution_count": 9,
      "metadata": {
        "id": "zbyceIhNTZzd"
      },
      "outputs": [],
      "source": [
        "# For reproducibility\n",
        "# https://pytorch.org/docs/stable/notes/randomness.html\n",
        "# https://github.com/pytorch/pytorch/issues/7068\n",
        "import random\n",
        "import numpy as np\n",
        "\n",
        "torch.manual_seed(SEED)\n",
        "random.seed(SEED)\n",
        "np.random.seed(SEED)\n",
        "\n",
        "if device_support == \"cuda\":\n",
        "    torch.cuda.manual_seed(SEED)\n",
        "    torch.cuda.manual_seed_all(SEED)\n",
        "\n",
        "\n",
        "# To be passed to dataloader\n",
        "def _init_fn(worker_id):\n",
        "    np.random.seed(int(SEED)"
      ]
    },
    {
      "cell_type": "markdown",
      "metadata": {
        "id": "IQHWl11waJw1"
      },
      "source": [
        "## Data Transformations\n"
      ]
    },
    {
      "cell_type": "code",
      "execution_count": 10,
      "metadata": {
        "id": "KpshQ2Ug38m2"
      },
      "outputs": [],
      "source": [
        "# Train and test data transformation steps now moved to apply_mnist_image_transformations()\n",
        "\n",
        "# cutout needs to be half of the image size\n",
        "cutout_size = 8\n",
        "\n",
        "train_transforms, test_transforms = apply_cifar_image_transformations(\n",
        "    mean=CIFAR_MEAN, std=CIFAR_STD, cutout_size=cutout_size\n",
        ")"
      ]
    },
    {
      "cell_type": "markdown",
      "metadata": {
        "id": "3VAgkx0VaJw3"
      },
      "source": [
        "## Train/Test Split\n"
      ]
    },
    {
      "cell_type": "code",
      "execution_count": 11,
      "metadata": {
        "colab": {
          "base_uri": "https://localhost:8080/"
        },
        "id": "JB79ZYW13-AO",
        "outputId": "4abd2e67-3a40-4742-d9b4-b230e915e8d8"
      },
      "outputs": [
        {
          "output_type": "stream",
          "name": "stdout",
          "text": [
            "Train and test data path: ../../data\n",
            "Downloading CIFAR10 dataset\n",
            "\n",
            "Downloading https://www.cs.toronto.edu/~kriz/cifar-10-python.tar.gz to ../../data/cifar-10-python.tar.gz\n"
          ]
        },
        {
          "output_type": "stream",
          "name": "stderr",
          "text": [
            "100%|██████████| 170498071/170498071 [00:02<00:00, 75441385.89it/s]\n"
          ]
        },
        {
          "output_type": "stream",
          "name": "stdout",
          "text": [
            "Extracting ../../data/cifar-10-python.tar.gz to ../../data\n",
            "Files already downloaded and verified\n",
            "\n",
            "Mean: [0.4914009  0.48215896 0.4465308 ]\n",
            "Std: [0.24703279 0.24348423 0.26158753]\n",
            "\n",
            "Transforms applied on the dataset\n",
            "\n"
          ]
        }
      ],
      "source": [
        "data_path = \"../../data\"\n",
        "print(f\"Train and test data path: {data_path}\")\n",
        "\n",
        "train_data, test_data = split_cifar_data(data_path, train_transforms, test_transforms)"
      ]
    },
    {
      "cell_type": "markdown",
      "metadata": {
        "id": "to2chNEdaJw4"
      },
      "source": [
        "## Dataloaders\n"
      ]
    },
    {
      "cell_type": "code",
      "execution_count": 12,
      "metadata": {
        "id": "d8lov1SaaJw4"
      },
      "outputs": [],
      "source": [
        "# calculate the number of workers\n",
        "num_workers = (os.cpu_count() - 1) if os.cpu_count() > 3 else 2\n",
        "\n",
        "# dataloader arguments - something you'll fetch these from cmdprmt\n",
        "dataloader_args = dict(\n",
        "    shuffle=True,\n",
        "    batch_size=BATCH_SIZE,\n",
        "    num_workers=num_workers,\n",
        "    pin_memory=True,\n",
        "    worker_init_fn=_init_fn,\n",
        ")\n",
        "\n",
        "# train dataloader\n",
        "train_loader = torch.utils.data.DataLoader(train_data, **dataloader_args)\n",
        "\n",
        "# test dataloader\n",
        "test_loader = torch.utils.data.DataLoader(test_data, **dataloader_args)"
      ]
    },
    {
      "cell_type": "code",
      "execution_count": 13,
      "metadata": {
        "colab": {
          "base_uri": "https://localhost:8080/"
        },
        "id": "ONtvq4itTpcE",
        "outputId": "f95a4d21-2432-448d-98bb-534ba0f2b94b"
      },
      "outputs": [
        {
          "output_type": "stream",
          "name": "stdout",
          "text": [
            "('Plane', 'Car', 'Bird', 'Cat', 'Deer', 'Dog', 'Frog', 'Horse', 'Ship', 'Truck')\n"
          ]
        }
      ],
      "source": [
        "# Get class mapping for the dataset\n",
        "classes = CIFAR_CLASSES\n",
        "print(classes)"
      ]
    },
    {
      "cell_type": "markdown",
      "metadata": {
        "id": "3tcyJZ7xaJw4"
      },
      "source": [
        "## Sample Training Images\n"
      ]
    },
    {
      "cell_type": "code",
      "execution_count": 14,
      "metadata": {
        "colab": {
          "base_uri": "https://localhost:8080/",
          "height": 983
        },
        "id": "Hx7QkLcw4Epc",
        "outputId": "517e21d7-e1fc-4f2a-a860-545666d298b8"
      },
      "outputs": [
        {
          "output_type": "display_data",
          "data": {
            "text/plain": [
              "<Figure size 1000x1000 with 30 Axes>"
            ],
            "image/png": "[encoded data removed]"
          },
          "metadata": {}
        }
      ],
      "source": [
        "# Get a batch of training data from train_loader\n",
        "batch_data, batch_label = next(iter(train_loader))\n",
        "\n",
        "# Plot 30 sample images from the training data along with their labels\n",
        "# plot_sample_training_images() imported from utils.py\n",
        "fig, axs = plot_sample_training_images(\n",
        "    batch_data, batch_label, class_label=classes, num_images=30\n",
        ")\n",
        "plt.show()"
      ]
    },
    {
      "cell_type": "markdown",
      "metadata": {
        "id": "dtKTHaq3aJw5"
      },
      "source": [
        "## Model Summary\n"
      ]
    },
    {
      "cell_type": "code",
      "execution_count": 16,
      "metadata": {
        "colab": {
          "base_uri": "https://localhost:8080/"
        },
        "id": "_D2fZQC2aJw6",
        "outputId": "4d0e47e9-3144-4359-e933-a29056e873a8"
      },
      "outputs": [
        {
          "output_type": "stream",
          "name": "stdout",
          "text": [
            "PrepLayer \n",
            " torch.Size([1, 64, 32, 32]) \n",
            "\n",
            "Layer 1, X \n",
            " torch.Size([1, 128, 16, 16]) \n",
            "\n",
            "Layer 1, R1 \n",
            " torch.Size([1, 128, 16, 16]) \n",
            "\n",
            "Layer 1, X + R1 \n",
            " torch.Size([1, 128, 16, 16]) \n",
            "\n",
            "Layer 2 \n",
            " torch.Size([1, 256, 8, 8]) \n",
            "\n",
            "Layer 3, X \n",
            " torch.Size([1, 512, 4, 4]) \n",
            "\n",
            "Layer 3, R2 \n",
            " torch.Size([1, 512, 4, 4]) \n",
            "\n",
            "Layer 3, X + R2 \n",
            " torch.Size([1, 512, 4, 4]) \n",
            "\n",
            "Max Pooling \n",
            " torch.Size([1, 512, 1, 1]) \n",
            "\n",
            "Reshape before FC \n",
            " torch.Size([1, 512]) \n",
            "\n",
            "After FC \n",
            " torch.Size([1, 10]) \n",
            "\n",
            "========================================================================================================================================\n",
            "Layer (type:depth-idx)                   Input Shape      Kernel Shape     Output Shape     Param #          Trainable        Mult-Adds\n",
            "========================================================================================================================================\n",
            "CustomResNet                             [1, 3, 32, 32]   --               [1, 10]          --               True             --\n",
            "├─Sequential: 1-1                        [1, 3, 32, 32]   --               [1, 64, 32, 32]  --               True             --\n",
            "│    └─Conv2d: 2-1                       [1, 3, 32, 32]   [3, 3]           [1, 64, 32, 32]  1,728            True             1,769,472\n",
            "│    └─BatchNorm2d: 2-2                  [1, 64, 32, 32]  --               [1, 64, 32, 32]  128              True             128\n",
            "│    └─ReLU: 2-3                         [1, 64, 32, 32]  --               [1, 64, 32, 32]  --               --               --\n",
            "├─Sequential: 1-2                        [1, 64, 32, 32]  --               [1, 128, 16, 16] --               True             --\n",
            "│    └─Conv2d: 2-4                       [1, 64, 32, 32]  [3, 3]           [1, 128, 32, 32] 73,728           True             75,497,472\n",
            "│    └─MaxPool2d: 2-5                    [1, 128, 32, 32] 2                [1, 128, 16, 16] --               --               --\n",
            "│    └─BatchNorm2d: 2-6                  [1, 128, 16, 16] --               [1, 128, 16, 16] 256              True             256\n",
            "│    └─ReLU: 2-7                         [1, 128, 16, 16] --               [1, 128, 16, 16] --               --               --\n",
            "├─Sequential: 1-3                        [1, 128, 16, 16] --               [1, 128, 16, 16] --               True             --\n",
            "│    └─Conv2d: 2-8                       [1, 128, 16, 16] [3, 3]           [1, 128, 16, 16] 147,456          True             37,748,736\n",
            "│    └─BatchNorm2d: 2-9                  [1, 128, 16, 16] --               [1, 128, 16, 16] 256              True             256\n",
            "│    └─ReLU: 2-10                        [1, 128, 16, 16] --               [1, 128, 16, 16] --               --               --\n",
            "│    └─Conv2d: 2-11                      [1, 128, 16, 16] [3, 3]           [1, 128, 16, 16] 147,456          True             37,748,736\n",
            "│    └─BatchNorm2d: 2-12                 [1, 128, 16, 16] --               [1, 128, 16, 16] 256              True             256\n",
            "│    └─ReLU: 2-13                        [1, 128, 16, 16] --               [1, 128, 16, 16] --               --               --\n",
            "├─Sequential: 1-4                        [1, 128, 16, 16] --               [1, 256, 8, 8]   --               True             --\n",
            "│    └─Conv2d: 2-14                      [1, 128, 16, 16] [3, 3]           [1, 256, 16, 16] 294,912          True             75,497,472\n",
            "│    └─MaxPool2d: 2-15                   [1, 256, 16, 16] 2                [1, 256, 8, 8]   --               --               --\n",
            "│    └─BatchNorm2d: 2-16                 [1, 256, 8, 8]   --               [1, 256, 8, 8]   512              True             512\n",
            "│    └─ReLU: 2-17                        [1, 256, 8, 8]   --               [1, 256, 8, 8]   --               --               --\n",
            "├─Sequential: 1-5                        [1, 256, 8, 8]   --               [1, 512, 4, 4]   --               True             --\n",
            "│    └─Conv2d: 2-18                      [1, 256, 8, 8]   [3, 3]           [1, 512, 8, 8]   1,179,648        True             75,497,472\n",
            "│    └─MaxPool2d: 2-19                   [1, 512, 8, 8]   2                [1, 512, 4, 4]   --               --               --\n",
            "│    └─BatchNorm2d: 2-20                 [1, 512, 4, 4]   --               [1, 512, 4, 4]   1,024            True             1,024\n",
            "│    └─ReLU: 2-21                        [1, 512, 4, 4]   --               [1, 512, 4, 4]   --               --               --\n",
            "├─Sequential: 1-6                        [1, 512, 4, 4]   --               [1, 512, 4, 4]   --               True             --\n",
            "│    └─Conv2d: 2-22                      [1, 512, 4, 4]   [3, 3]           [1, 512, 4, 4]   2,359,296        True             37,748,736\n",
            "│    └─BatchNorm2d: 2-23                 [1, 512, 4, 4]   --               [1, 512, 4, 4]   1,024            True             1,024\n",
            "│    └─ReLU: 2-24                        [1, 512, 4, 4]   --               [1, 512, 4, 4]   --               --               --\n",
            "│    └─Conv2d: 2-25                      [1, 512, 4, 4]   [3, 3]           [1, 512, 4, 4]   2,359,296        True             37,748,736\n",
            "│    └─BatchNorm2d: 2-26                 [1, 512, 4, 4]   --               [1, 512, 4, 4]   1,024            True             1,024\n",
            "│    └─ReLU: 2-27                        [1, 512, 4, 4]   --               [1, 512, 4, 4]   --               --               --\n",
            "├─MaxPool2d: 1-7                         [1, 512, 4, 4]   4                [1, 512, 1, 1]   --               --               --\n",
            "├─Linear: 1-8                            [1, 512]         --               [1, 10]          5,130            True             5,130\n",
            "========================================================================================================================================\n",
            "Total params: 6,573,130\n",
            "Trainable params: 6,573,130\n",
            "Non-trainable params: 0\n",
            "Total mult-adds (M): 379.27\n",
            "========================================================================================================================================\n",
            "Input size (MB): 0.01\n",
            "Forward/backward pass size (MB): 4.65\n",
            "Params size (MB): 26.29\n",
            "Estimated Total Size (MB): 30.96\n",
            "========================================================================================================================================\n"
          ]
        }
      ],
      "source": [
        "# Model class is imported from model.py\n",
        "\n",
        "# Send the model to device\n",
        "model = Net().to(device)\n",
        "\n",
        "# enable printing shape\n",
        "model.print_shape = True\n",
        "\n",
        "# # Print the model summary by specifying the input size\n",
        "# summary(model, input_size=(3, 32, 32))\n",
        "detailed_model_summary(model, input_size=(3, 32, 32), device=device)\n",
        "\n",
        "# disable printing shape for cleaner test train output\n",
        "model.print_shape = False"
      ]
    },
    {
      "cell_type": "markdown",
      "metadata": {
        "id": "ZZC5UXwXaJw7"
      },
      "source": [
        "## Train and Test\n"
      ]
    },
    {
      "cell_type": "markdown",
      "metadata": {
        "id": "kuPeac4MuGHh"
      },
      "source": [
        "### Optimizer and Loss Function\n"
      ]
    },
    {
      "cell_type": "code",
      "execution_count": 20,
      "metadata": {
        "id": "Owqiet9M4TV7"
      },
      "outputs": [],
      "source": [
        "# Create optimizer and scheduler\n",
        "# Use ADAM\n",
        "# https://pytorch.org/docs/stable/generated/torch.optim.Adam.html\n",
        "optimizer = optim.Adam(model.parameters(), lr=0.01)\n",
        "\n",
        "# Define criteria function\n",
        "# https://pytorch.org/docs/stable/generated/torch.nn.CrossEntropyLoss.html\n",
        "criterion = torch.nn.CrossEntropyLoss()"
      ]
    },
    {
      "cell_type": "markdown",
      "metadata": {
        "id": "NAUZpitAuGHh"
      },
      "source": [
        "### Find Learning Rate\n"
      ]
    },
    {
      "cell_type": "code",
      "execution_count": 23,
      "metadata": {
        "colab": {
          "base_uri": "https://localhost:8080/",
          "height": 559,
          "referenced_widgets": [
            "adfb59555244403eadc03368fc427d47",
            "b3e03defa3264c94a6cf04eabde48cae",
            "b69207362fc2454580bd08ea3d9f8d4a",
            "eafd9b0e739d4e949492164de5dac795",
            "589f2d0f0462420c8992101a15b74cd1",
            "5edb06c23cbe482b87c647b8e81b4a43",
            "6f7d092bf6794f29b92a3066d6aa8be3",
            "a4cd3638ee2649e7acdc539f8c51341c",
            "e01f609c2c4c4b939968bd2d1b050b53",
            "b65404d937324831bed9494cda209da3",
            "6764323dd0bd4f9cb50185deace3526e"
          ]
        },
        "id": "37nW5EIEuGHh",
        "outputId": "6c1eba2b-8a22-4f41-acd4-3d42c1c6836a"
      },
      "outputs": [
        {
          "output_type": "display_data",
          "data": {
            "text/plain": [
              "  0%|          | 0/100 [00:00<?, ?it/s]"
            ],
            "application/vnd.jupyter.widget-view+json": {
              "version_major": 2,
              "version_minor": 0,
              "model_id": "adfb59555244403eadc03368fc427d47"
            }
          },
          "metadata": {}
        },
        {
          "output_type": "stream",
          "name": "stdout",
          "text": [
            "Stopping early, the loss has diverged\n",
            "Learning rate search finished. See the graph with {finder_name}.plot()\n",
            "LR suggestion: steepest gradient\n",
            "Suggested LR: 7.39E-03\n"
          ]
        },
        {
          "output_type": "display_data",
          "data": {
            "text/plain": [
              "<Figure size 640x480 with 1 Axes>"
            ],
            "image/png": "[encoded data removed]"
          },
          "metadata": {}
        }
      ],
      "source": [
        "# Use LR Finder to find the best starting learning rate\n",
        "# https://github.com/davidtvs/pytorch-lr-finder\n",
        "# https://github.com/davidtvs/pytorch-lr-finder#notes\n",
        "\n",
        "# Create LR finder object\n",
        "lr_finder = LRFinder(model, optimizer, criterion, device=device)\n",
        "lr_finder.range_test(train_loader=train_loader, start_lr=1e-4, end_lr=10, num_iter=100)\n",
        "plot, optimal_lr = lr_finder.plot(suggest_lr=True)\n",
        "lr_finder.reset()\n",
        "plot.figure.savefig(\"LRFinder - Suggested Max LR.png\")"
      ]
    },
    {
      "cell_type": "markdown",
      "metadata": {
        "id": "pUMgrmnYuGHh"
      },
      "source": [
        "### Scheduler\n"
      ]
    },
    {
      "cell_type": "code",
      "execution_count": 24,
      "metadata": {
        "colab": {
          "base_uri": "https://localhost:8080/"
        },
        "id": "uyP_d0sxuGHh",
        "outputId": "cd9adcc3-9bc9-40ae-82cb-a2bd95f3cead"
      },
      "outputs": [
        {
          "output_type": "stream",
          "name": "stdout",
          "text": [
            "Adjusting learning rate of group 0 to 7.3907e-05.\n"
          ]
        }
      ],
      "source": [
        "# # Learning rate scheduler based on plateau\n",
        "# # https://pytorch.org/docs/stable/generated/torch.optim.lr_scheduler.ReduceLROnPlateau.html\n",
        "# scheduler = ReduceLROnPlateau(\n",
        "#     optimizer, mode=\"min\", factor=0.5, patience=1, threshold=0.03, verbose=False\n",
        "# )\n",
        "\n",
        "# Learning rate scheduler based on OneCycleLR\n",
        "# https://pytorch.org/docs/stable/generated/torch.optim.lr_scheduler.OneCycleLR.html\n",
        "scheduler = OneCycleLR(\n",
        "    optimizer,\n",
        "    max_lr=optimal_lr,\n",
        "    steps_per_epoch=len(train_loader),\n",
        "    epochs=NUM_EPOCHS,\n",
        "    pct_start=5 / NUM_EPOCHS,\n",
        "    div_factor=100,\n",
        "    three_phase=False,\n",
        "    final_div_factor=100,\n",
        "    anneal_strategy=\"linear\",\n",
        "    verbose=True,\n",
        ")"
      ]
    },
    {
      "cell_type": "markdown",
      "metadata": {
        "id": "ZymIecrUuGHi"
      },
      "source": [
        "### Train and test model\n"
      ]
    },
    {
      "cell_type": "code",
      "execution_count": 25,
      "metadata": {
        "colab": {
          "base_uri": "https://localhost:8080/",
          "height": 1000
        },
        "id": "AgiHs--euGHi",
        "outputId": "c8dc503b-bebd-42d9-a839-7b7561a06d07"
      },
      "outputs": [
        {
          "output_type": "stream",
          "name": "stdout",
          "text": [
            "\n",
            "\n",
            "Batch size: 512, Total epochs: 24\n",
            "\n",
            "\n",
            "Epoch 1\n"
          ]
        },
        {
          "output_type": "stream",
          "name": "stderr",
          "text": [
            "Train: Loss=82.6408, Batch_id=97, Accuracy=10.98: 100%|██████████| 98/98 [00:21<00:00,  4.61it/s]\n"
          ]
        },
        {
          "output_type": "stream",
          "name": "stdout",
          "text": [
            "Test set: Average loss: 0.1805,  Accuracy: 1160/10000  (11.60%)\n",
            "Saving the model as best test accuracy till now is achieved!\n",
            "Adjusting learning rate of group 0 to 8.8870e-05.\n",
            "\n",
            "\n",
            "Epoch 2\n"
          ]
        },
        {
          "output_type": "stream",
          "name": "stderr",
          "text": [
            "Train: Loss=65.0251, Batch_id=97, Accuracy=11.95: 100%|██████████| 98/98 [00:20<00:00,  4.67it/s]\n"
          ]
        },
        {
          "output_type": "stream",
          "name": "stdout",
          "text": [
            "Test set: Average loss: 0.1321,  Accuracy: 1237/10000  (12.37%)\n",
            "Saving the model as best test accuracy till now is achieved!\n",
            "Adjusting learning rate of group 0 to 1.0383e-04.\n",
            "\n",
            "\n",
            "Epoch 3\n"
          ]
        },
        {
          "output_type": "stream",
          "name": "stderr",
          "text": [
            "Train: Loss=39.5611, Batch_id=97, Accuracy=12.54: 100%|██████████| 98/98 [00:20<00:00,  4.76it/s]\n"
          ]
        },
        {
          "output_type": "stream",
          "name": "stdout",
          "text": [
            "Test set: Average loss: 0.0940,  Accuracy: 1295/10000  (12.95%)\n",
            "Saving the model as best test accuracy till now is achieved!\n",
            "Adjusting learning rate of group 0 to 1.1880e-04.\n",
            "\n",
            "\n",
            "Epoch 4\n"
          ]
        },
        {
          "output_type": "stream",
          "name": "stderr",
          "text": [
            "Train: Loss=29.4328, Batch_id=97, Accuracy=12.60: 100%|██████████| 98/98 [00:20<00:00,  4.86it/s]\n"
          ]
        },
        {
          "output_type": "stream",
          "name": "stdout",
          "text": [
            "Test set: Average loss: 0.0666,  Accuracy: 1276/10000  (12.76%)\n",
            "Adjusting learning rate of group 0 to 1.3376e-04.\n",
            "\n",
            "\n",
            "Epoch 5\n"
          ]
        },
        {
          "output_type": "stream",
          "name": "stderr",
          "text": [
            "Train: Loss=21.0808, Batch_id=97, Accuracy=12.86: 100%|██████████| 98/98 [00:20<00:00,  4.80it/s]\n"
          ]
        },
        {
          "output_type": "stream",
          "name": "stdout",
          "text": [
            "Test set: Average loss: 0.0497,  Accuracy: 1267/10000  (12.67%)\n",
            "Adjusting learning rate of group 0 to 1.4872e-04.\n",
            "\n",
            "\n",
            "Epoch 6\n"
          ]
        },
        {
          "output_type": "stream",
          "name": "stderr",
          "text": [
            "Train: Loss=16.2875, Batch_id=97, Accuracy=13.31: 100%|██████████| 98/98 [00:20<00:00,  4.72it/s]\n"
          ]
        },
        {
          "output_type": "stream",
          "name": "stdout",
          "text": [
            "Test set: Average loss: 0.0381,  Accuracy: 1349/10000  (13.49%)\n",
            "Saving the model as best test accuracy till now is achieved!\n",
            "Adjusting learning rate of group 0 to 1.6368e-04.\n",
            "\n",
            "\n",
            "Epoch 7\n"
          ]
        },
        {
          "output_type": "stream",
          "name": "stderr",
          "text": [
            "Train: Loss=15.9488, Batch_id=97, Accuracy=14.11: 100%|██████████| 98/98 [00:20<00:00,  4.70it/s]\n"
          ]
        },
        {
          "output_type": "stream",
          "name": "stdout",
          "text": [
            "Test set: Average loss: 0.0321,  Accuracy: 1456/10000  (14.56%)\n",
            "Saving the model as best test accuracy till now is achieved!\n",
            "Adjusting learning rate of group 0 to 1.7865e-04.\n",
            "\n",
            "\n",
            "Epoch 8\n"
          ]
        },
        {
          "output_type": "stream",
          "name": "stderr",
          "text": [
            "Train: Loss=14.7509, Batch_id=97, Accuracy=14.55: 100%|██████████| 98/98 [00:20<00:00,  4.83it/s]\n"
          ]
        },
        {
          "output_type": "stream",
          "name": "stdout",
          "text": [
            "Test set: Average loss: 0.0272,  Accuracy: 1519/10000  (15.19%)\n",
            "Saving the model as best test accuracy till now is achieved!\n",
            "Adjusting learning rate of group 0 to 1.9361e-04.\n",
            "\n",
            "\n",
            "Epoch 9\n"
          ]
        },
        {
          "output_type": "stream",
          "name": "stderr",
          "text": [
            "Train: Loss=12.3807, Batch_id=65, Accuracy=15.26:  67%|██████▋   | 66/98 [00:14<00:06,  4.63it/s]\n"
          ]
        },
        {
          "output_type": "error",
          "ename": "KeyboardInterrupt",
          "evalue": "ignored",
          "traceback": [
            "\u001b[0;31m---------------------------------------------------------------------------\u001b[0m",
            "\u001b[0;31mKeyboardInterrupt\u001b[0m                         Traceback (most recent call last)",
            "\u001b[0;32m<ipython-input-25-aaff466e71a3>\u001b[0m in \u001b[0;36m<cell line: 5>\u001b[0;34m()\u001b[0m\n\u001b[1;32m      3\u001b[0m \u001b[0;34m\u001b[0m\u001b[0m\n\u001b[1;32m      4\u001b[0m \u001b[0;31m# Run the model for NUM_EPOCHS\u001b[0m\u001b[0;34m\u001b[0m\u001b[0;34m\u001b[0m\u001b[0m\n\u001b[0;32m----> 5\u001b[0;31m results = train_and_test_model(\n\u001b[0m\u001b[1;32m      6\u001b[0m     \u001b[0mbatch_size\u001b[0m\u001b[0;34m=\u001b[0m\u001b[0mBATCH_SIZE\u001b[0m\u001b[0;34m,\u001b[0m\u001b[0;34m\u001b[0m\u001b[0;34m\u001b[0m\u001b[0m\n\u001b[1;32m      7\u001b[0m     \u001b[0mnum_epochs\u001b[0m\u001b[0;34m=\u001b[0m\u001b[0mNUM_EPOCHS\u001b[0m\u001b[0;34m,\u001b[0m\u001b[0;34m\u001b[0m\u001b[0;34m\u001b[0m\u001b[0m\n",
            "\u001b[0;32m/content/era-v1/Session 10/Submission/modules/trainer.py\u001b[0m in \u001b[0;36mtrain_and_test_model\u001b[0;34m(batch_size, num_epochs, model, device, train_loader, test_loader, optimizer, criterion, scheduler, misclassified_image_data)\u001b[0m\n\u001b[1;32m    162\u001b[0m \u001b[0;34m\u001b[0m\u001b[0m\n\u001b[1;32m    163\u001b[0m         \u001b[0;31m# Train the model\u001b[0m\u001b[0;34m\u001b[0m\u001b[0;34m\u001b[0m\u001b[0m\n\u001b[0;32m--> 164\u001b[0;31m         epoch_train_accuracy, epoch_train_loss = train_model(\n\u001b[0m\u001b[1;32m    165\u001b[0m             \u001b[0mmodel\u001b[0m\u001b[0;34m,\u001b[0m \u001b[0mdevice\u001b[0m\u001b[0;34m,\u001b[0m \u001b[0mtrain_loader\u001b[0m\u001b[0;34m,\u001b[0m \u001b[0moptimizer\u001b[0m\u001b[0;34m,\u001b[0m \u001b[0mcriterion\u001b[0m\u001b[0;34m\u001b[0m\u001b[0;34m\u001b[0m\u001b[0m\n\u001b[1;32m    166\u001b[0m         )\n",
            "\u001b[0;32m/content/era-v1/Session 10/Submission/modules/trainer.py\u001b[0m in \u001b[0;36mtrain_model\u001b[0;34m(model, device, train_loader, optimizer, criterion)\u001b[0m\n\u001b[1;32m     43\u001b[0m         \u001b[0mloss\u001b[0m \u001b[0;34m=\u001b[0m \u001b[0mcriterion\u001b[0m\u001b[0;34m(\u001b[0m\u001b[0mpred\u001b[0m\u001b[0;34m,\u001b[0m \u001b[0mtarget\u001b[0m\u001b[0;34m)\u001b[0m\u001b[0;34m\u001b[0m\u001b[0;34m\u001b[0m\u001b[0m\n\u001b[1;32m     44\u001b[0m         \u001b[0;31m# Update the loss\u001b[0m\u001b[0;34m\u001b[0m\u001b[0;34m\u001b[0m\u001b[0m\n\u001b[0;32m---> 45\u001b[0;31m         \u001b[0mtrain_loss\u001b[0m \u001b[0;34m+=\u001b[0m \u001b[0mloss\u001b[0m\u001b[0;34m.\u001b[0m\u001b[0mitem\u001b[0m\u001b[0;34m(\u001b[0m\u001b[0;34m)\u001b[0m\u001b[0;34m\u001b[0m\u001b[0;34m\u001b[0m\u001b[0m\n\u001b[0m\u001b[1;32m     46\u001b[0m \u001b[0;34m\u001b[0m\u001b[0m\n\u001b[1;32m     47\u001b[0m         \u001b[0;31m# Backpropagation to calculate the gradients\u001b[0m\u001b[0;34m\u001b[0m\u001b[0;34m\u001b[0m\u001b[0m\n",
            "\u001b[0;31mKeyboardInterrupt\u001b[0m: "
          ]
        }
      ],
      "source": [
        "# Create a dictionary of lists for misclassified images, generated predictions and ground truth\n",
        "misclassified_image_data = {\"images\": [], \"ground_truths\": [], \"predicted_vals\": []}\n",
        "\n",
        "# Run the model for NUM_EPOCHS\n",
        "results = train_and_test_model(\n",
        "    batch_size=BATCH_SIZE,\n",
        "    num_epochs=NUM_EPOCHS,\n",
        "    model=model,\n",
        "    device=device,\n",
        "    train_loader=train_loader,\n",
        "    test_loader=test_loader,\n",
        "    optimizer=optimizer,\n",
        "    criterion=criterion,\n",
        "    scheduler=scheduler,\n",
        "    misclassified_image_data=misclassified_image_data,\n",
        ")"
      ]
    },
    {
      "cell_type": "code",
      "execution_count": null,
      "metadata": {
        "id": "ojgiBmmcaeO1"
      },
      "outputs": [],
      "source": [
        "# Pretty print train and test accuracy and loss values for each epoch\n",
        "pretty_print_metrics(num_epochs=NUM_EPOCHS, results=results)"
      ]
    },
    {
      "cell_type": "markdown",
      "metadata": {
        "id": "8epmHZIPaJw7"
      },
      "source": [
        "## Metrics\n"
      ]
    },
    {
      "cell_type": "code",
      "execution_count": null,
      "metadata": {
        "id": "Wu0l7dli4eC9"
      },
      "outputs": [],
      "source": [
        "# Print expected accuracy for easier reference\n",
        "print(f\"Expected accuracy: {TARGET_ACCURACY}%\")\n",
        "\n",
        "# Plot the accuracy and loss graphs using data and plot_train_test_metrics() from model.py\n",
        "print(\"Plotting accuracy and loss graphs.\")\n",
        "fig, axs = plot_train_test_metrics(results)\n",
        "plt.show()\n",
        "plt.savefig(\"Loss and Accuracy Metrics.png\")"
      ]
    },
    {
      "cell_type": "markdown",
      "metadata": {
        "id": "xvSpV2XLjEhb"
      },
      "source": [
        "## Save model\n"
      ]
    },
    {
      "cell_type": "code",
      "execution_count": null,
      "metadata": {
        "id": "fSoN5DVhjEhb"
      },
      "outputs": [],
      "source": [
        "# Save model\n",
        "print(\"Saving the model as the training is complete!\")\n",
        "save_model(\n",
        "    epoch=NUM_EPOCHS,\n",
        "    model=model,\n",
        "    optimizer=optimizer,\n",
        "    scheduler=scheduler,\n",
        "    batch_size=BATCH_SIZE,\n",
        "    criterion=criterion,\n",
        "    file_name=\"model_last_epoch.pth\",\n",
        ")"
      ]
    },
    {
      "cell_type": "markdown",
      "metadata": {
        "id": "PFUaX9XkTpcI"
      },
      "source": [
        "## Show incorrect images\n"
      ]
    },
    {
      "cell_type": "code",
      "execution_count": null,
      "metadata": {
        "id": "X5131GVbTpcJ"
      },
      "outputs": [],
      "source": [
        "# Plot misclassified images\n",
        "fig, axs = plot_misclassified_images(\n",
        "    data=misclassified_image_data, class_label=classes, num_images=10\n",
        ")\n",
        "plt.show()\n",
        "plt.savefig(\"Misclassified Images.png\")"
      ]
    }
  ],
  "metadata": {
    "accelerator": "GPU",
    "colab": {
      "provenance": []
    },
    "kernelspec": {
      "display_name": "Python 3",
      "name": "python3"
    },
    "language_info": {
      "codemirror_mode": {
        "name": "ipython",
        "version": 3
      },
      "file_extension": ".py",
      "mimetype": "text/x-python",
      "name": "python",
      "nbconvert_exporter": "python",
      "pygments_lexer": "ipython3",
      "version": "3.11.4"
    },
    "widgets": {
      "application/vnd.jupyter.widget-state+json": {
        "adfb59555244403eadc03368fc427d47": {
          "model_module": "@jupyter-widgets/controls",
          "model_name": "HBoxModel",
          "model_module_version": "1.5.0",
          "state": {
            "_dom_classes": [],
            "_model_module": "@jupyter-widgets/controls",
            "_model_module_version": "1.5.0",
            "_model_name": "HBoxModel",
            "_view_count": null,
            "_view_module": "@jupyter-widgets/controls",
            "_view_module_version": "1.5.0",
            "_view_name": "HBoxView",
            "box_style": "",
            "children": [
              "IPY_MODEL_b3e03defa3264c94a6cf04eabde48cae",
              "IPY_MODEL_b69207362fc2454580bd08ea3d9f8d4a",
              "IPY_MODEL_eafd9b0e739d4e949492164de5dac795"
            ],
            "layout": "IPY_MODEL_589f2d0f0462420c8992101a15b74cd1"
          }
        },
        "b3e03defa3264c94a6cf04eabde48cae": {
          "model_module": "@jupyter-widgets/controls",
          "model_name": "HTMLModel",
          "model_module_version": "1.5.0",
          "state": {
            "_dom_classes": [],
            "_model_module": "@jupyter-widgets/controls",
            "_model_module_version": "1.5.0",
            "_model_name": "HTMLModel",
            "_view_count": null,
            "_view_module": "@jupyter-widgets/controls",
            "_view_module_version": "1.5.0",
            "_view_name": "HTMLView",
            "description": "",
            "description_tooltip": null,
            "layout": "IPY_MODEL_5edb06c23cbe482b87c647b8e81b4a43",
            "placeholder": "​",
            "style": "IPY_MODEL_6f7d092bf6794f29b92a3066d6aa8be3",
            "value": " 99%"
          }
        },
        "b69207362fc2454580bd08ea3d9f8d4a": {
          "model_module": "@jupyter-widgets/controls",
          "model_name": "FloatProgressModel",
          "model_module_version": "1.5.0",
          "state": {
            "_dom_classes": [],
            "_model_module": "@jupyter-widgets/controls",
            "_model_module_version": "1.5.0",
            "_model_name": "FloatProgressModel",
            "_view_count": null,
            "_view_module": "@jupyter-widgets/controls",
            "_view_module_version": "1.5.0",
            "_view_name": "ProgressView",
            "bar_style": "danger",
            "description": "",
            "description_tooltip": null,
            "layout": "IPY_MODEL_a4cd3638ee2649e7acdc539f8c51341c",
            "max": 100,
            "min": 0,
            "orientation": "horizontal",
            "style": "IPY_MODEL_e01f609c2c4c4b939968bd2d1b050b53",
            "value": 99
          }
        },
        "eafd9b0e739d4e949492164de5dac795": {
          "model_module": "@jupyter-widgets/controls",
          "model_name": "HTMLModel",
          "model_module_version": "1.5.0",
          "state": {
            "_dom_classes": [],
            "_model_module": "@jupyter-widgets/controls",
            "_model_module_version": "1.5.0",
            "_model_name": "HTMLModel",
            "_view_count": null,
            "_view_module": "@jupyter-widgets/controls",
            "_view_module_version": "1.5.0",
            "_view_name": "HTMLView",
            "description": "",
            "description_tooltip": null,
            "layout": "IPY_MODEL_b65404d937324831bed9494cda209da3",
            "placeholder": "​",
            "style": "IPY_MODEL_6764323dd0bd4f9cb50185deace3526e",
            "value": " 99/100 [00:20&lt;00:00,  3.36it/s]"
          }
        },
        "589f2d0f0462420c8992101a15b74cd1": {
          "model_module": "@jupyter-widgets/base",
          "model_name": "LayoutModel",
          "model_module_version": "1.2.0",
          "state": {
            "_model_module": "@jupyter-widgets/base",
            "_model_module_version": "1.2.0",
            "_model_name": "LayoutModel",
            "_view_count": null,
            "_view_module": "@jupyter-widgets/base",
            "_view_module_version": "1.2.0",
            "_view_name": "LayoutView",
            "align_content": null,
            "align_items": null,
            "align_self": null,
            "border": null,
            "bottom": null,
            "display": null,
            "flex": null,
            "flex_flow": null,
            "grid_area": null,
            "grid_auto_columns": null,
            "grid_auto_flow": null,
            "grid_auto_rows": null,
            "grid_column": null,
            "grid_gap": null,
            "grid_row": null,
            "grid_template_areas": null,
            "grid_template_columns": null,
            "grid_template_rows": null,
            "height": null,
            "justify_content": null,
            "justify_items": null,
            "left": null,
            "margin": null,
            "max_height": null,
            "max_width": null,
            "min_height": null,
            "min_width": null,
            "object_fit": null,
            "object_position": null,
            "order": null,
            "overflow": null,
            "overflow_x": null,
            "overflow_y": null,
            "padding": null,
            "right": null,
            "top": null,
            "visibility": null,
            "width": null
          }
        },
        "5edb06c23cbe482b87c647b8e81b4a43": {
          "model_module": "@jupyter-widgets/base",
          "model_name": "LayoutModel",
          "model_module_version": "1.2.0",
          "state": {
            "_model_module": "@jupyter-widgets/base",
            "_model_module_version": "1.2.0",
            "_model_name": "LayoutModel",
            "_view_count": null,
            "_view_module": "@jupyter-widgets/base",
            "_view_module_version": "1.2.0",
            "_view_name": "LayoutView",
            "align_content": null,
            "align_items": null,
            "align_self": null,
            "border": null,
            "bottom": null,
            "display": null,
            "flex": null,
            "flex_flow": null,
            "grid_area": null,
            "grid_auto_columns": null,
            "grid_auto_flow": null,
            "grid_auto_rows": null,
            "grid_column": null,
            "grid_gap": null,
            "grid_row": null,
            "grid_template_areas": null,
            "grid_template_columns": null,
            "grid_template_rows": null,
            "height": null,
            "justify_content": null,
            "justify_items": null,
            "left": null,
            "margin": null,
            "max_height": null,
            "max_width": null,
            "min_height": null,
            "min_width": null,
            "object_fit": null,
            "object_position": null,
            "order": null,
            "overflow": null,
            "overflow_x": null,
            "overflow_y": null,
            "padding": null,
            "right": null,
            "top": null,
            "visibility": null,
            "width": null
          }
        },
        "6f7d092bf6794f29b92a3066d6aa8be3": {
          "model_module": "@jupyter-widgets/controls",
          "model_name": "DescriptionStyleModel",
          "model_module_version": "1.5.0",
          "state": {
            "_model_module": "@jupyter-widgets/controls",
            "_model_module_version": "1.5.0",
            "_model_name": "DescriptionStyleModel",
            "_view_count": null,
            "_view_module": "@jupyter-widgets/base",
            "_view_module_version": "1.2.0",
            "_view_name": "StyleView",
            "description_width": ""
          }
        },
        "a4cd3638ee2649e7acdc539f8c51341c": {
          "model_module": "@jupyter-widgets/base",
          "model_name": "LayoutModel",
          "model_module_version": "1.2.0",
          "state": {
            "_model_module": "@jupyter-widgets/base",
            "_model_module_version": "1.2.0",
            "_model_name": "LayoutModel",
            "_view_count": null,
            "_view_module": "@jupyter-widgets/base",
            "_view_module_version": "1.2.0",
            "_view_name": "LayoutView",
            "align_content": null,
            "align_items": null,
            "align_self": null,
            "border": null,
            "bottom": null,
            "display": null,
            "flex": null,
            "flex_flow": null,
            "grid_area": null,
            "grid_auto_columns": null,
            "grid_auto_flow": null,
            "grid_auto_rows": null,
            "grid_column": null,
            "grid_gap": null,
            "grid_row": null,
            "grid_template_areas": null,
            "grid_template_columns": null,
            "grid_template_rows": null,
            "height": null,
            "justify_content": null,
            "justify_items": null,
            "left": null,
            "margin": null,
            "max_height": null,
            "max_width": null,
            "min_height": null,
            "min_width": null,
            "object_fit": null,
            "object_position": null,
            "order": null,
            "overflow": null,
            "overflow_x": null,
            "overflow_y": null,
            "padding": null,
            "right": null,
            "top": null,
            "visibility": null,
            "width": null
          }
        },
        "e01f609c2c4c4b939968bd2d1b050b53": {
          "model_module": "@jupyter-widgets/controls",
          "model_name": "ProgressStyleModel",
          "model_module_version": "1.5.0",
          "state": {
            "_model_module": "@jupyter-widgets/controls",
            "_model_module_version": "1.5.0",
            "_model_name": "ProgressStyleModel",
            "_view_count": null,
            "_view_module": "@jupyter-widgets/base",
            "_view_module_version": "1.2.0",
            "_view_name": "StyleView",
            "bar_color": null,
            "description_width": ""
          }
        },
        "b65404d937324831bed9494cda209da3": {
          "model_module": "@jupyter-widgets/base",
          "model_name": "LayoutModel",
          "model_module_version": "1.2.0",
          "state": {
            "_model_module": "@jupyter-widgets/base",
            "_model_module_version": "1.2.0",
            "_model_name": "LayoutModel",
            "_view_count": null,
            "_view_module": "@jupyter-widgets/base",
            "_view_module_version": "1.2.0",
            "_view_name": "LayoutView",
            "align_content": null,
            "align_items": null,
            "align_self": null,
            "border": null,
            "bottom": null,
            "display": null,
            "flex": null,
            "flex_flow": null,
            "grid_area": null,
            "grid_auto_columns": null,
            "grid_auto_flow": null,
            "grid_auto_rows": null,
            "grid_column": null,
            "grid_gap": null,
            "grid_row": null,
            "grid_template_areas": null,
            "grid_template_columns": null,
            "grid_template_rows": null,
            "height": null,
            "justify_content": null,
            "justify_items": null,
            "left": null,
            "margin": null,
            "max_height": null,
            "max_width": null,
            "min_height": null,
            "min_width": null,
            "object_fit": null,
            "object_position": null,
            "order": null,
            "overflow": null,
            "overflow_x": null,
            "overflow_y": null,
            "padding": null,
            "right": null,
            "top": null,
            "visibility": null,
            "width": null
          }
        },
        "6764323dd0bd4f9cb50185deace3526e": {
          "model_module": "@jupyter-widgets/controls",
          "model_name": "DescriptionStyleModel",
          "model_module_version": "1.5.0",
          "state": {
            "_model_module": "@jupyter-widgets/controls",
            "_model_module_version": "1.5.0",
            "_model_name": "DescriptionStyleModel",
            "_view_count": null,
            "_view_module": "@jupyter-widgets/base",
            "_view_module_version": "1.2.0",
            "_view_name": "StyleView",
            "description_width": ""
          }
        }
      }
    }
  },
  "nbformat": 4,
  "nbformat_minor": 0
}