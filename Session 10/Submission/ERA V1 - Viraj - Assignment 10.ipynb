{
  "cells": [
    {
      "cell_type": "markdown",
      "metadata": {
        "id": "bw8mN4mWaJwt"
      },
      "source": [
        "# Assignment 10 - Viraj Noorithaya\n"
      ]
    },
    {
      "cell_type": "markdown",
      "metadata": {
        "id": "i5EJaJ6PaJwu"
      },
      "source": [
        "## Script Parameters\n"
      ]
    },
    {
      "cell_type": "code",
      "execution_count": null,
      "metadata": {
        "id": "cm_GkK-maJwv"
      },
      "outputs": [],
      "source": [
        "# Where are you running this? Can be either 'local' or 'colab'\n",
        "model_run_location = \"local\"\n",
        "\n",
        "# # Do you want to install the required packages?\n",
        "# install_required_packages = False\n",
        "install_required_packages = False if model_run_location == \"local\" else True\n",
        "\n",
        "# git repository url\n",
        "repo_name = \"era-v1\"\n",
        "git_repo_url = \"https://github.com/nviraj/era-v1.git\"\n",
        "\n",
        "# Is the model being developed or is it in production?\n",
        "# Can be development or production\n",
        "code_mode = \"development\"\n",
        "\n",
        "# WHich branch are you working on?\n",
        "branch_name = \"week-10\" if code_mode == \"development\" else \"main\"\n",
        "folder_name = \"Session 10/Submission\""
      ]
    },
    {
      "cell_type": "markdown",
      "metadata": {
        "id": "TEku13Z9uGHX"
      },
      "source": [
        "## Library Installation (Optional)\n"
      ]
    },
    {
      "cell_type": "code",
      "execution_count": null,
      "metadata": {
        "colab": {
          "base_uri": "https://localhost:8080/"
        },
        "id": "ehhA4GGpaJww",
        "outputId": "c94812c3-aa8b-4a4e-c72a-a5836142b07e"
      },
      "outputs": [],
      "source": [
        "# # Install any required libraries not present in your working environment\n",
        "\n",
        "if install_required_packages:\n",
        "    # # Needed locally and in colab\n",
        "    # !pip install torchsummary\n",
        "    # !conda install -c frgfm torchscan\n",
        "\n",
        "    import sys\n",
        "    # !{sys.executable} -m pip install torchsummary\n",
        "    !{sys.executable} -m pip install torch-lr-finder\n",
        "    !{sys.executable} -m pip install torchinfo\n",
        "\n",
        "    # if model_run_location == 'colab':\n",
        "    #     !{sys.executable} -m pip install albumentations\n",
        "\n",
        "    # # Needed locally\n",
        "    # !conda install -c conda-forge tqdm\n",
        "    # !conda install -c anaconda ipywidgets\n",
        "\n",
        "    if model_run_location == 'local':\n",
        "        %conda install --yes --prefix {sys.prefix} -c conda-forge tqdm\n",
        "        %conda install --yes --prefix {sys.prefix} -c anaconda ipywidgets\n",
        "        %conda install --yes --prefix {sys.prefix} -c conda-forge imgaug\n",
        "        %conda install --yes --prefix {sys.prefix} -c conda-forge albumentations\n"
      ]
    },
    {
      "cell_type": "markdown",
      "metadata": {
        "id": "W4vt-IWCaJwx"
      },
      "source": [
        "## Code Procurement\n"
      ]
    },
    {
      "cell_type": "code",
      "execution_count": null,
      "metadata": {
        "colab": {
          "base_uri": "https://localhost:8080/"
        },
        "id": "cJHG1vnqaJwx",
        "outputId": "99936640-5046-470b-86ba-92e9b84983f3"
      },
      "outputs": [],
      "source": [
        "# Mount google drive if running on colab\n",
        "if model_run_location == 'colab':\n",
        "    # from google.colab import drive\n",
        "    # drive.mount('/content/drive')\n",
        "    # %cd /content/drive/MyDrive/WorkSpace/era-v1/Session 10/Submission\n",
        "\n",
        "    # Delete the folder if it exists\n",
        "    # Avoids fatal: destination path already exists and is not an empty directory.\n",
        "    # Get code from github\n",
        "    !rm -rf {repo_name} && git clone {git_repo_url}\n",
        "\n",
        "    # Switch to repo folder, Needed to switch branch\n",
        "    # Switch branch and change to the correct directory\n",
        "    !cd \"{repo_name}\" && git checkout {branch_name} && cd \"{folder_name}\""
      ]
    },
    {
      "cell_type": "markdown",
      "metadata": {
        "id": "jiWmJROnaJwy"
      },
      "source": [
        "## Import Libraries\n"
      ]
    },
    {
      "cell_type": "code",
      "execution_count": null,
      "metadata": {
        "colab": {
          "base_uri": "https://localhost:8080/"
        },
        "id": "6PlbomWY3RSq",
        "outputId": "38da6d11-6019-42db-f37c-6f4428cf8ce9"
      },
      "outputs": [],
      "source": [
        "# Import necessary modules (external libs)\n",
        "import os\n",
        "\n",
        "import matplotlib.pyplot as plt\n",
        "import torch\n",
        "import torch.nn.functional as F\n",
        "import torch.optim as optim\n",
        "from torch.optim.lr_scheduler import OneCycleLR\n",
        "from torch_lr_finder import LRFinder\n",
        "\n",
        "# from torchsummary import summary"
      ]
    },
    {
      "cell_type": "code",
      "execution_count": null,
      "metadata": {
        "colab": {
          "base_uri": "https://localhost:8080/"
        },
        "id": "Q8W4vw6HzC41",
        "outputId": "e06ed2f2-4a79-429d-be3e-16bfc1a368d5"
      },
      "outputs": [],
      "source": [
        "import sys\n",
        "\n",
        "print(f\"CWD: {os.getcwd()}\")\n",
        "\n",
        "if model_run_location == \"colab\":\n",
        "    print(f\"Appending folder to path in order to detect modules: {folder_name}\")\n",
        "    sys.path.append(f\"era-v1/{folder_name}\")"
      ]
    },
    {
      "cell_type": "code",
      "execution_count": null,
      "metadata": {
        "id": "WGMvMPH-aJwz"
      },
      "outputs": [],
      "source": [
        "# Import user defined modules\n",
        "from modules.dataset import split_cifar_data, apply_cifar_image_transformations\n",
        "from modules.dataset import CIFAR_MEAN, CIFAR_STD, CIFAR_CLASSES\n",
        "from modules.custom_resnet import CustomResNet as Net\n",
        "from modules.custom_resnet import detailed_model_summary\n",
        "from modules.trainer import train_and_test_model\n",
        "from modules.utils import get_device, save_model, pretty_print_metrics\n",
        "from modules.visualize import (\n",
        "    plot_misclassified_images,\n",
        "    plot_sample_training_images,\n",
        "    plot_train_test_metrics,\n",
        ")"
      ]
    },
    {
      "cell_type": "markdown",
      "metadata": {
        "id": "U71ZcO2yuGHb"
      },
      "source": [
        "## Script Parameters\n"
      ]
    },
    {
      "cell_type": "code",
      "execution_count": null,
      "metadata": {
        "id": "KxqJvgkiuGHc"
      },
      "outputs": [],
      "source": [
        "# Constants naming convention: All caps separated by underscore\n",
        "# https://realpython.com/python-constants/\n",
        "\n",
        "# Specify the number of epochs\n",
        "NUM_EPOCHS = 24\n",
        "\n",
        "# Set the batch size\n",
        "BATCH_SIZE = 512\n",
        "\n",
        "# What is the start LR and weight decay you'd prefer?\n",
        "PREFERRED_START_LR = 1e-3\n",
        "PREFERRED_WEIGHT_DECAY = 1e-4\n",
        "\n",
        "# Set seed value for reproducibility\n",
        "SEED = 1\n",
        "\n",
        "# Expected accuracy\n",
        "TARGET_ACCURACY = 90.0"
      ]
    },
    {
      "cell_type": "markdown",
      "metadata": {
        "id": "6hdO0QPWuGHd"
      },
      "source": [
        "## Get Device\n"
      ]
    },
    {
      "cell_type": "code",
      "execution_count": null,
      "metadata": {
        "colab": {
          "base_uri": "https://localhost:8080/"
        },
        "id": "94BxVVBP3WwS",
        "outputId": "b902a261-319d-42db-99a0-27bf8169a131"
      },
      "outputs": [],
      "source": [
        "# Functionality to check cuda support and create device is now moved to utils.py\n",
        "device_support, device = get_device()\n",
        "print(f\"Device created with {device_support}!\")"
      ]
    },
    {
      "cell_type": "markdown",
      "metadata": {
        "id": "AU810ednTZzd"
      },
      "source": [
        "### Reproducibility settings\n"
      ]
    },
    {
      "cell_type": "code",
      "execution_count": null,
      "metadata": {
        "id": "zbyceIhNTZzd"
      },
      "outputs": [],
      "source": [
        "# For reproducibility\n",
        "# https://pytorch.org/docs/stable/notes/randomness.html\n",
        "# https://github.com/pytorch/pytorch/issues/7068\n",
        "import random\n",
        "import numpy as np\n",
        "\n",
        "torch.manual_seed(SEED)\n",
        "random.seed(SEED)\n",
        "np.random.seed(SEED)\n",
        "\n",
        "if device_support == \"cuda\":\n",
        "    torch.cuda.manual_seed(SEED)\n",
        "    torch.cuda.manual_seed_all(SEED)\n",
        "\n",
        "\n",
        "# To be passed to dataloader\n",
        "def _init_fn(worker_id):\n",
        "    np.random.seed(int(SEED))"
      ]
    },
    {
      "cell_type": "markdown",
      "metadata": {
        "id": "IQHWl11waJw1"
      },
      "source": [
        "## Data Transformations\n"
      ]
    },
    {
      "cell_type": "code",
      "execution_count": null,
      "metadata": {
        "id": "KpshQ2Ug38m2"
      },
      "outputs": [],
      "source": [
        "# Train and test data transformation steps now moved to apply_mnist_image_transformations()\n",
        "\n",
        "# cutout needs to be half of the image size\n",
        "cutout_size = 8\n",
        "\n",
        "train_transforms, test_transforms = apply_cifar_image_transformations(\n",
        "    mean=CIFAR_MEAN, std=CIFAR_STD, cutout_size=cutout_size\n",
        ")"
      ]
    },
    {
      "cell_type": "markdown",
      "metadata": {
        "id": "3VAgkx0VaJw3"
      },
      "source": [
        "## Train/Test Split\n"
      ]
    },
    {
      "cell_type": "code",
      "execution_count": null,
      "metadata": {
        "colab": {
          "base_uri": "https://localhost:8080/"
        },
        "id": "JB79ZYW13-AO",
        "outputId": "a48aa6c3-dadb-4ee7-a89e-2fa0998dd846"
      },
      "outputs": [],
      "source": [
        "data_path = \"../../data\"\n",
        "print(f\"Train and test data path: {data_path}\")\n",
        "\n",
        "train_data, test_data = split_cifar_data(data_path, train_transforms, test_transforms)"
      ]
    },
    {
      "cell_type": "markdown",
      "metadata": {
        "id": "to2chNEdaJw4"
      },
      "source": [
        "## Dataloaders\n"
      ]
    },
    {
      "cell_type": "code",
      "execution_count": null,
      "metadata": {
        "id": "d8lov1SaaJw4"
      },
      "outputs": [],
      "source": [
        "# calculate the number of workers\n",
        "num_workers = (os.cpu_count() - 1) if os.cpu_count() > 3 else 2\n",
        "# If run_mode is local, use only 2 workers\n",
        "num_workers = num_workers if model_run_location == \"colab\" else 0\n",
        "print(f\"Number of workers: {num_workers}\")\n",
        "\n",
        "# dataloader arguments - something you'll fetch these from cmdprmt\n",
        "dataloader_args = dict(\n",
        "    shuffle=True,\n",
        "    batch_size=BATCH_SIZE,\n",
        "    num_workers=num_workers,\n",
        "    pin_memory=True,\n",
        "    worker_init_fn=_init_fn,\n",
        ")\n",
        "\n",
        "# train dataloader\n",
        "train_loader = torch.utils.data.DataLoader(train_data, **dataloader_args)\n",
        "\n",
        "# test dataloader\n",
        "test_loader = torch.utils.data.DataLoader(test_data, **dataloader_args)"
      ]
    },
    {
      "cell_type": "code",
      "execution_count": null,
      "metadata": {
        "colab": {
          "base_uri": "https://localhost:8080/"
        },
        "id": "ONtvq4itTpcE",
        "outputId": "2d92d0c0-64a9-4ba8-8deb-b31fa52785a3"
      },
      "outputs": [],
      "source": [
        "# Get class mapping for the dataset\n",
        "classes = CIFAR_CLASSES\n",
        "print(classes)"
      ]
    },
    {
      "cell_type": "markdown",
      "metadata": {
        "id": "3tcyJZ7xaJw4"
      },
      "source": [
        "## Sample Training Images\n"
      ]
    },
    {
      "cell_type": "code",
      "execution_count": null,
      "metadata": {
        "colab": {
          "base_uri": "https://localhost:8080/",
          "height": 983
        },
        "id": "Hx7QkLcw4Epc",
        "outputId": "71729c29-660c-4666-8068-831aebd137c0"
      },
      "outputs": [],
      "source": [
        "# Get a batch of training data from train_loader\n",
        "batch_data, batch_label = next(iter(train_loader))\n",
        "\n",
        "# Plot 30 sample images from the training data along with their labels\n",
        "# plot_sample_training_images() imported from utils.py\n",
        "fig, axs = plot_sample_training_images(\n",
        "    batch_data, batch_label, class_label=classes, num_images=30\n",
        ")\n",
        "plt.show()"
      ]
    },
    {
      "cell_type": "markdown",
      "metadata": {
        "id": "dtKTHaq3aJw5"
      },
      "source": [
        "## Model Summary\n"
      ]
    },
    {
      "cell_type": "code",
      "execution_count": null,
      "metadata": {
        "colab": {
          "base_uri": "https://localhost:8080/"
        },
        "id": "_D2fZQC2aJw6",
        "outputId": "ee930e1e-2065-43f6-d3df-19381498a312"
      },
      "outputs": [],
      "source": [
        "# Model class is imported from model.py\n",
        "\n",
        "# Send the model to device\n",
        "model = Net().to(device)\n",
        "\n",
        "# enable printing shape\n",
        "model.print_shape = True\n",
        "\n",
        "# # Print the model summary by specifying the input size\n",
        "# summary(model, input_size=(3, 32, 32))\n",
        "detailed_model_summary(model, input_size=(3, 32, 32), device=device)\n",
        "\n",
        "# disable printing shape for cleaner test train output\n",
        "model.print_shape = False"
      ]
    },
    {
      "cell_type": "markdown",
      "metadata": {
        "id": "ZZC5UXwXaJw7"
      },
      "source": [
        "## Train and Test\n"
      ]
    },
    {
      "cell_type": "markdown",
      "metadata": {
        "id": "kuPeac4MuGHh"
      },
      "source": [
        "### Optimizer and Loss Function\n"
      ]
    },
    {
      "cell_type": "code",
      "execution_count": null,
      "metadata": {
        "id": "Owqiet9M4TV7"
      },
      "outputs": [],
      "source": [
        "# Create optimizer and scheduler\n",
        "# Use ADAM\n",
        "# https://pytorch.org/docs/stable/generated/torch.optim.Adam.html\n",
        "optimizer = optim.Adam(\n",
        "    model.parameters(), lr=PREFERRED_START_LR, weight_decay=PREFERRED_WEIGHT_DECAY\n",
        ")\n",
        "\n",
        "# Define criteria function\n",
        "# https://pytorch.org/docs/stable/generated/torch.nn.CrossEntropyLoss.html\n",
        "criterion = torch.nn.CrossEntropyLoss()"
      ]
    },
    {
      "cell_type": "markdown",
      "metadata": {
        "id": "NAUZpitAuGHh"
      },
      "source": [
        "### Find Learning Rate\n"
      ]
    },
    {
      "cell_type": "code",
      "execution_count": null,
      "metadata": {
        "colab": {
          "base_uri": "https://localhost:8080/",
          "height": 557,
          "referenced_widgets": [
            "19a0bcc412824c25ae9edfa9bc166023",
            "9181bdb79f5541fab19802d0a918004e",
            "76ba266bfdc54b1aaa4ad6c7e4e1f218",
            "74a178187891476d86a2cd0042072146",
            "025fa13629a0454281bfc8b543a5dae3",
            "d39518bbc7414e23aff8e73edd37a042",
            "80d300fb8f524e4f9d331ef74a5cd965",
            "2edf4f8d248c432889b103b440115293",
            "6c4dbe8cc4f84a1c8091eb2e2b709a03",
            "5f7cb28b81dc455c8b1e42eb11ad7171",
            "86b0fc5e7c584e76bd83e689f4f58081"
          ]
        },
        "id": "37nW5EIEuGHh",
        "outputId": "829b0b34-4644-4065-d567-c530b104abd6"
      },
      "outputs": [],
      "source": [
        "# Use LR Finder to find the best starting learning rate\n",
        "# https://github.com/davidtvs/pytorch-lr-finder\n",
        "# https://github.com/davidtvs/pytorch-lr-finder#notes\n",
        "# https://github.com/davidtvs/pytorch-lr-finder/blob/master/torch_lr_finder/lr_finder.py\n",
        "\n",
        "# Create LR finder object\n",
        "lr_finder = LRFinder(model, optimizer, criterion, device=device)\n",
        "lr_finder.range_test(train_loader=train_loader, end_lr=10, num_iter=200)\n",
        "plot, suggested_lr = lr_finder.plot(suggest_lr=True)\n",
        "lr_finder.reset()\n",
        "# plot.figure.savefig(\"LRFinder - Suggested Max LR.png\")"
      ]
    },
    {
      "cell_type": "markdown",
      "metadata": {
        "id": "pUMgrmnYuGHh"
      },
      "source": [
        "### Scheduler\n"
      ]
    },
    {
      "cell_type": "code",
      "execution_count": null,
      "metadata": {
        "id": "uyP_d0sxuGHh"
      },
      "outputs": [],
      "source": [
        "# # Learning rate scheduler based on plateau\n",
        "# # https://pytorch.org/docs/stable/generated/torch.optim.lr_scheduler.ReduceLROnPlateau.html\n",
        "# scheduler = ReduceLROnPlateau(\n",
        "#     optimizer, mode=\"min\", factor=0.5, patience=1, threshold=0.03, verbose=False\n",
        "# )\n",
        "\n",
        "# max_lr = 7.33E-03\n",
        "\n",
        "# Learning rate scheduler based on OneCycleLR\n",
        "# https://pytorch.org/docs/stable/generated/torch.optim.lr_scheduler.OneCycleLR.html\n",
        "scheduler = OneCycleLR(\n",
        "    optimizer,\n",
        "    max_lr=suggested_lr,\n",
        "    steps_per_epoch=len(train_loader),\n",
        "    epochs=NUM_EPOCHS,\n",
        "    pct_start=5 / NUM_EPOCHS,\n",
        "    div_factor=100,\n",
        "    three_phase=False,\n",
        "    anneal_strategy=\"linear\",\n",
        "    final_div_factor=100,\n",
        "    verbose=False,\n",
        ")"
      ]
    },
    {
      "cell_type": "markdown",
      "metadata": {
        "id": "ZymIecrUuGHi"
      },
      "source": [
        "### Train and test model\n"
      ]
    },
    {
      "cell_type": "code",
      "execution_count": null,
      "metadata": {
        "colab": {
          "base_uri": "https://localhost:8080/"
        },
        "id": "AgiHs--euGHi",
        "outputId": "e87cdb83-db01-4bc9-df98-fd77120306ce"
      },
      "outputs": [],
      "source": [
        "# Create a dictionary of lists for misclassified images, generated predictions and ground truth\n",
        "misclassified_image_data = {\"images\": [], \"ground_truths\": [], \"predicted_vals\": []}\n",
        "\n",
        "# Run the model for NUM_EPOCHS\n",
        "results = train_and_test_model(\n",
        "    batch_size=BATCH_SIZE,\n",
        "    num_epochs=NUM_EPOCHS,\n",
        "    model=model,\n",
        "    device=device,\n",
        "    train_loader=train_loader,\n",
        "    test_loader=test_loader,\n",
        "    optimizer=optimizer,\n",
        "    criterion=criterion,\n",
        "    scheduler=scheduler,\n",
        "    misclassified_image_data=misclassified_image_data,\n",
        ")"
      ]
    },
    {
      "cell_type": "code",
      "execution_count": null,
      "metadata": {
        "colab": {
          "base_uri": "https://localhost:8080/"
        },
        "id": "ojgiBmmcaeO1",
        "outputId": "daa8b272-e29a-4c6e-a870-98e9332b7578"
      },
      "outputs": [],
      "source": [
        "# Pretty print train and test accuracy and loss values for each epoch\n",
        "pretty_print_metrics(num_epochs=NUM_EPOCHS, results=results)"
      ]
    },
    {
      "cell_type": "markdown",
      "metadata": {
        "id": "8epmHZIPaJw7"
      },
      "source": [
        "## Metrics\n"
      ]
    },
    {
      "cell_type": "code",
      "execution_count": null,
      "metadata": {
        "colab": {
          "base_uri": "https://localhost:8080/",
          "height": 753
        },
        "id": "Wu0l7dli4eC9",
        "outputId": "86838e59-5ce3-44e2-9288-cd8c84d4b160"
      },
      "outputs": [],
      "source": [
        "# Print expected accuracy for easier reference\n",
        "print(f\"Expected accuracy: {TARGET_ACCURACY}%\")\n",
        "\n",
        "# Plot the accuracy and loss graphs using data and plot_train_test_metrics() from model.py\n",
        "print(\"Plotting accuracy and loss graphs.\")\n",
        "fig, axs = plot_train_test_metrics(results)\n",
        "plt.show()\n",
        "# plt.savefig(\"Loss and Accuracy Metrics.png\")"
      ]
    },
    {
      "cell_type": "markdown",
      "metadata": {
        "id": "xvSpV2XLjEhb"
      },
      "source": [
        "## Save model\n"
      ]
    },
    {
      "cell_type": "code",
      "execution_count": null,
      "metadata": {
        "colab": {
          "base_uri": "https://localhost:8080/"
        },
        "id": "fSoN5DVhjEhb",
        "outputId": "5457d95b-1d47-4dd2-98ea-3826a829086f"
      },
      "outputs": [],
      "source": [
        "# Save model\n",
        "print(\"Saving the model as the training is complete!\")\n",
        "save_model(\n",
        "    epoch=NUM_EPOCHS,\n",
        "    model=model,\n",
        "    optimizer=optimizer,\n",
        "    scheduler=scheduler,\n",
        "    batch_size=BATCH_SIZE,\n",
        "    criterion=criterion,\n",
        "    file_name=\"model_last_epoch.pth\",\n",
        ")"
      ]
    },
    {
      "cell_type": "markdown",
      "metadata": {
        "id": "PFUaX9XkTpcI"
      },
      "source": [
        "## Show incorrect images\n"
      ]
    },
    {
      "cell_type": "code",
      "execution_count": null,
      "metadata": {
        "colab": {
          "base_uri": "https://localhost:8080/",
          "height": 401
        },
        "id": "X5131GVbTpcJ",
        "outputId": "0349cd23-378b-4c00-a5b7-54aea3e1cd5e"
      },
      "outputs": [],
      "source": [
        "# Plot misclassified images\n",
        "fig, axs = plot_misclassified_images(\n",
        "    data=misclassified_image_data, class_label=classes, num_images=10\n",
        ")\n",
        "plt.show()\n",
        "# plt.savefig(\"Misclassified Images.png\")"
      ]
    }
  ],
  "metadata": {
    "accelerator": "GPU",
    "colab": {
      "include_colab_link": true,
      "provenance": []
    },
    "kernelspec": {
      "display_name": "Python 3",
      "name": "python3"
    },
    "language_info": {
      "codemirror_mode": {
        "name": "ipython",
        "version": 3
      },
      "file_extension": ".py",
      "mimetype": "text/x-python",
      "name": "python",
      "nbconvert_exporter": "python",
      "pygments_lexer": "ipython3",
      "version": "3.11.4"
    },
    "widgets": {
      "application/vnd.jupyter.widget-state+json": {
        "025fa13629a0454281bfc8b543a5dae3": {
          "model_module": "@jupyter-widgets/base",
          "model_module_version": "1.2.0",
          "model_name": "LayoutModel",
          "state": {
            "_model_module": "@jupyter-widgets/base",
            "_model_module_version": "1.2.0",
            "_model_name": "LayoutModel",
            "_view_count": null,
            "_view_module": "@jupyter-widgets/base",
            "_view_module_version": "1.2.0",
            "_view_name": "LayoutView",
            "align_content": null,
            "align_items": null,
            "align_self": null,
            "border": null,
            "bottom": null,
            "display": null,
            "flex": null,
            "flex_flow": null,
            "grid_area": null,
            "grid_auto_columns": null,
            "grid_auto_flow": null,
            "grid_auto_rows": null,
            "grid_column": null,
            "grid_gap": null,
            "grid_row": null,
            "grid_template_areas": null,
            "grid_template_columns": null,
            "grid_template_rows": null,
            "height": null,
            "justify_content": null,
            "justify_items": null,
            "left": null,
            "margin": null,
            "max_height": null,
            "max_width": null,
            "min_height": null,
            "min_width": null,
            "object_fit": null,
            "object_position": null,
            "order": null,
            "overflow": null,
            "overflow_x": null,
            "overflow_y": null,
            "padding": null,
            "right": null,
            "top": null,
            "visibility": null,
            "width": null
          }
        },
        "19a0bcc412824c25ae9edfa9bc166023": {
          "model_module": "@jupyter-widgets/controls",
          "model_module_version": "1.5.0",
          "model_name": "HBoxModel",
          "state": {
            "_dom_classes": [],
            "_model_module": "@jupyter-widgets/controls",
            "_model_module_version": "1.5.0",
            "_model_name": "HBoxModel",
            "_view_count": null,
            "_view_module": "@jupyter-widgets/controls",
            "_view_module_version": "1.5.0",
            "_view_name": "HBoxView",
            "box_style": "",
            "children": [
              "IPY_MODEL_9181bdb79f5541fab19802d0a918004e",
              "IPY_MODEL_76ba266bfdc54b1aaa4ad6c7e4e1f218",
              "IPY_MODEL_74a178187891476d86a2cd0042072146"
            ],
            "layout": "IPY_MODEL_025fa13629a0454281bfc8b543a5dae3"
          }
        },
        "2edf4f8d248c432889b103b440115293": {
          "model_module": "@jupyter-widgets/base",
          "model_module_version": "1.2.0",
          "model_name": "LayoutModel",
          "state": {
            "_model_module": "@jupyter-widgets/base",
            "_model_module_version": "1.2.0",
            "_model_name": "LayoutModel",
            "_view_count": null,
            "_view_module": "@jupyter-widgets/base",
            "_view_module_version": "1.2.0",
            "_view_name": "LayoutView",
            "align_content": null,
            "align_items": null,
            "align_self": null,
            "border": null,
            "bottom": null,
            "display": null,
            "flex": null,
            "flex_flow": null,
            "grid_area": null,
            "grid_auto_columns": null,
            "grid_auto_flow": null,
            "grid_auto_rows": null,
            "grid_column": null,
            "grid_gap": null,
            "grid_row": null,
            "grid_template_areas": null,
            "grid_template_columns": null,
            "grid_template_rows": null,
            "height": null,
            "justify_content": null,
            "justify_items": null,
            "left": null,
            "margin": null,
            "max_height": null,
            "max_width": null,
            "min_height": null,
            "min_width": null,
            "object_fit": null,
            "object_position": null,
            "order": null,
            "overflow": null,
            "overflow_x": null,
            "overflow_y": null,
            "padding": null,
            "right": null,
            "top": null,
            "visibility": null,
            "width": null
          }
        },
        "5f7cb28b81dc455c8b1e42eb11ad7171": {
          "model_module": "@jupyter-widgets/base",
          "model_module_version": "1.2.0",
          "model_name": "LayoutModel",
          "state": {
            "_model_module": "@jupyter-widgets/base",
            "_model_module_version": "1.2.0",
            "_model_name": "LayoutModel",
            "_view_count": null,
            "_view_module": "@jupyter-widgets/base",
            "_view_module_version": "1.2.0",
            "_view_name": "LayoutView",
            "align_content": null,
            "align_items": null,
            "align_self": null,
            "border": null,
            "bottom": null,
            "display": null,
            "flex": null,
            "flex_flow": null,
            "grid_area": null,
            "grid_auto_columns": null,
            "grid_auto_flow": null,
            "grid_auto_rows": null,
            "grid_column": null,
            "grid_gap": null,
            "grid_row": null,
            "grid_template_areas": null,
            "grid_template_columns": null,
            "grid_template_rows": null,
            "height": null,
            "justify_content": null,
            "justify_items": null,
            "left": null,
            "margin": null,
            "max_height": null,
            "max_width": null,
            "min_height": null,
            "min_width": null,
            "object_fit": null,
            "object_position": null,
            "order": null,
            "overflow": null,
            "overflow_x": null,
            "overflow_y": null,
            "padding": null,
            "right": null,
            "top": null,
            "visibility": null,
            "width": null
          }
        },
        "6c4dbe8cc4f84a1c8091eb2e2b709a03": {
          "model_module": "@jupyter-widgets/controls",
          "model_module_version": "1.5.0",
          "model_name": "ProgressStyleModel",
          "state": {
            "_model_module": "@jupyter-widgets/controls",
            "_model_module_version": "1.5.0",
            "_model_name": "ProgressStyleModel",
            "_view_count": null,
            "_view_module": "@jupyter-widgets/base",
            "_view_module_version": "1.2.0",
            "_view_name": "StyleView",
            "bar_color": null,
            "description_width": ""
          }
        },
        "74a178187891476d86a2cd0042072146": {
          "model_module": "@jupyter-widgets/controls",
          "model_module_version": "1.5.0",
          "model_name": "HTMLModel",
          "state": {
            "_dom_classes": [],
            "_model_module": "@jupyter-widgets/controls",
            "_model_module_version": "1.5.0",
            "_model_name": "HTMLModel",
            "_view_count": null,
            "_view_module": "@jupyter-widgets/controls",
            "_view_module_version": "1.5.0",
            "_view_name": "HTMLView",
            "description": "",
            "description_tooltip": null,
            "layout": "IPY_MODEL_5f7cb28b81dc455c8b1e42eb11ad7171",
            "placeholder": "​",
            "style": "IPY_MODEL_86b0fc5e7c584e76bd83e689f4f58081",
            "value": " 151/200 [00:58&lt;00:13,  3.55it/s]"
          }
        },
        "76ba266bfdc54b1aaa4ad6c7e4e1f218": {
          "model_module": "@jupyter-widgets/controls",
          "model_module_version": "1.5.0",
          "model_name": "FloatProgressModel",
          "state": {
            "_dom_classes": [],
            "_model_module": "@jupyter-widgets/controls",
            "_model_module_version": "1.5.0",
            "_model_name": "FloatProgressModel",
            "_view_count": null,
            "_view_module": "@jupyter-widgets/controls",
            "_view_module_version": "1.5.0",
            "_view_name": "ProgressView",
            "bar_style": "danger",
            "description": "",
            "description_tooltip": null,
            "layout": "IPY_MODEL_2edf4f8d248c432889b103b440115293",
            "max": 200,
            "min": 0,
            "orientation": "horizontal",
            "style": "IPY_MODEL_6c4dbe8cc4f84a1c8091eb2e2b709a03",
            "value": 151
          }
        },
        "80d300fb8f524e4f9d331ef74a5cd965": {
          "model_module": "@jupyter-widgets/controls",
          "model_module_version": "1.5.0",
          "model_name": "DescriptionStyleModel",
          "state": {
            "_model_module": "@jupyter-widgets/controls",
            "_model_module_version": "1.5.0",
            "_model_name": "DescriptionStyleModel",
            "_view_count": null,
            "_view_module": "@jupyter-widgets/base",
            "_view_module_version": "1.2.0",
            "_view_name": "StyleView",
            "description_width": ""
          }
        },
        "86b0fc5e7c584e76bd83e689f4f58081": {
          "model_module": "@jupyter-widgets/controls",
          "model_module_version": "1.5.0",
          "model_name": "DescriptionStyleModel",
          "state": {
            "_model_module": "@jupyter-widgets/controls",
            "_model_module_version": "1.5.0",
            "_model_name": "DescriptionStyleModel",
            "_view_count": null,
            "_view_module": "@jupyter-widgets/base",
            "_view_module_version": "1.2.0",
            "_view_name": "StyleView",
            "description_width": ""
          }
        },
        "9181bdb79f5541fab19802d0a918004e": {
          "model_module": "@jupyter-widgets/controls",
          "model_module_version": "1.5.0",
          "model_name": "HTMLModel",
          "state": {
            "_dom_classes": [],
            "_model_module": "@jupyter-widgets/controls",
            "_model_module_version": "1.5.0",
            "_model_name": "HTMLModel",
            "_view_count": null,
            "_view_module": "@jupyter-widgets/controls",
            "_view_module_version": "1.5.0",
            "_view_name": "HTMLView",
            "description": "",
            "description_tooltip": null,
            "layout": "IPY_MODEL_d39518bbc7414e23aff8e73edd37a042",
            "placeholder": "​",
            "style": "IPY_MODEL_80d300fb8f524e4f9d331ef74a5cd965",
            "value": " 76%"
          }
        },
        "d39518bbc7414e23aff8e73edd37a042": {
          "model_module": "@jupyter-widgets/base",
          "model_module_version": "1.2.0",
          "model_name": "LayoutModel",
          "state": {
            "_model_module": "@jupyter-widgets/base",
            "_model_module_version": "1.2.0",
            "_model_name": "LayoutModel",
            "_view_count": null,
            "_view_module": "@jupyter-widgets/base",
            "_view_module_version": "1.2.0",
            "_view_name": "LayoutView",
            "align_content": null,
            "align_items": null,
            "align_self": null,
            "border": null,
            "bottom": null,
            "display": null,
            "flex": null,
            "flex_flow": null,
            "grid_area": null,
            "grid_auto_columns": null,
            "grid_auto_flow": null,
            "grid_auto_rows": null,
            "grid_column": null,
            "grid_gap": null,
            "grid_row": null,
            "grid_template_areas": null,
            "grid_template_columns": null,
            "grid_template_rows": null,
            "height": null,
            "justify_content": null,
            "justify_items": null,
            "left": null,
            "margin": null,
            "max_height": null,
            "max_width": null,
            "min_height": null,
            "min_width": null,
            "object_fit": null,
            "object_position": null,
            "order": null,
            "overflow": null,
            "overflow_x": null,
            "overflow_y": null,
            "padding": null,
            "right": null,
            "top": null,
            "visibility": null,
            "width": null
          }
        }
      }
    }
  },
  "nbformat": 4,
  "nbformat_minor": 0
}
